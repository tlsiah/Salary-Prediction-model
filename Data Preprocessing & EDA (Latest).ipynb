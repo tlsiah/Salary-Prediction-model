{
 "cells": [
  {
   "cell_type": "markdown",
   "id": "0fafdf68",
   "metadata": {},
   "source": [
    "# Data Preprocessing & EDA\n",
    "\n",
    "Preprocessing Tasks:\n",
    "- To combine 2020 and 2019 datasets\n",
    "- Data cleaning\n",
    "- ??"
   ]
  },
  {
   "cell_type": "code",
<<<<<<< HEAD
   "execution_count": 46,
   "id": "739a23ee",
=======
   "execution_count": 43,
   "id": "ec99cb64",
>>>>>>> b33b10b77d45e805feac824d85b8a57d3a31485a
   "metadata": {},
   "outputs": [],
   "source": [
    "# import necessary packages\n",
    "import numpy as np\n",
    "import pandas as pd\n",
    "\n",
    "import seaborn as sns \n",
    "import matplotlib.pyplot as plt\n",
    "# packages for categorical encoding"
   ]
  },
  {
   "cell_type": "code",
<<<<<<< HEAD
   "execution_count": 2,
   "id": "275db2b4",
=======
   "execution_count": 44,
   "id": "ee2d1d43",
>>>>>>> b33b10b77d45e805feac824d85b8a57d3a31485a
   "metadata": {},
   "outputs": [
    {
     "data": {
      "text/html": [
       "<div>\n",
       "<style scoped>\n",
       "    .dataframe tbody tr th:only-of-type {\n",
       "        vertical-align: middle;\n",
       "    }\n",
       "\n",
       "    .dataframe tbody tr th {\n",
       "        vertical-align: top;\n",
       "    }\n",
       "\n",
       "    .dataframe thead th {\n",
       "        text-align: right;\n",
       "    }\n",
       "</style>\n",
       "<table border=\"1\" class=\"dataframe\">\n",
       "  <thead>\n",
       "    <tr style=\"text-align: right;\">\n",
       "      <th></th>\n",
       "      <th>Timestamp</th>\n",
       "      <th>Age</th>\n",
       "      <th>Gender</th>\n",
       "      <th>City</th>\n",
       "      <th>Position</th>\n",
       "      <th>Total years of experience</th>\n",
       "      <th>Years of experience in Germany</th>\n",
       "      <th>Seniority level</th>\n",
       "      <th>Your main technology / programming language</th>\n",
       "      <th>Other technologies/programming languages you use often</th>\n",
       "      <th>...</th>\n",
       "      <th>Annual bonus+stocks one year ago. Only answer if staying in same country</th>\n",
       "      <th>Number of vacation days</th>\n",
       "      <th>Employment status</th>\n",
       "      <th>Сontract duration</th>\n",
       "      <th>Main language at work</th>\n",
       "      <th>Company size</th>\n",
       "      <th>Company type</th>\n",
       "      <th>Have you lost your job due to the coronavirus outbreak?</th>\n",
       "      <th>Have you been forced to have a shorter working week (Kurzarbeit)? If yes, how many hours per week</th>\n",
       "      <th>Have you received additional monetary support from your employer due to Work From Home? If yes, how much in 2020 in EUR</th>\n",
       "    </tr>\n",
       "  </thead>\n",
       "  <tbody>\n",
       "    <tr>\n",
       "      <th>0</th>\n",
       "      <td>24/11/2020 11:14</td>\n",
       "      <td>26.0</td>\n",
       "      <td>Male</td>\n",
       "      <td>Munich</td>\n",
       "      <td>Software Engineer</td>\n",
       "      <td>5</td>\n",
       "      <td>3</td>\n",
       "      <td>Senior</td>\n",
       "      <td>TypeScript</td>\n",
       "      <td>Kotlin, Javascript / Typescript</td>\n",
       "      <td>...</td>\n",
       "      <td>10000</td>\n",
       "      <td>30</td>\n",
       "      <td>Full-time employee</td>\n",
       "      <td>Unlimited contract</td>\n",
       "      <td>English</td>\n",
       "      <td>51-100</td>\n",
       "      <td>Product</td>\n",
       "      <td>No</td>\n",
       "      <td>NaN</td>\n",
       "      <td>NaN</td>\n",
       "    </tr>\n",
       "    <tr>\n",
       "      <th>1</th>\n",
       "      <td>24/11/2020 11:14</td>\n",
       "      <td>26.0</td>\n",
       "      <td>Male</td>\n",
       "      <td>Berlin</td>\n",
       "      <td>Backend Developer</td>\n",
       "      <td>7</td>\n",
       "      <td>4</td>\n",
       "      <td>Senior</td>\n",
       "      <td>Ruby</td>\n",
       "      <td>NaN</td>\n",
       "      <td>...</td>\n",
       "      <td>5000</td>\n",
       "      <td>28</td>\n",
       "      <td>Full-time employee</td>\n",
       "      <td>Unlimited contract</td>\n",
       "      <td>English</td>\n",
       "      <td>101-1000</td>\n",
       "      <td>Product</td>\n",
       "      <td>No</td>\n",
       "      <td>NaN</td>\n",
       "      <td>NaN</td>\n",
       "    </tr>\n",
       "    <tr>\n",
       "      <th>2</th>\n",
       "      <td>24/11/2020 11:14</td>\n",
       "      <td>29.0</td>\n",
       "      <td>Male</td>\n",
       "      <td>Berlin</td>\n",
       "      <td>Software Engineer</td>\n",
       "      <td>12</td>\n",
       "      <td>6</td>\n",
       "      <td>Lead</td>\n",
       "      <td>Javascript / Typescript</td>\n",
       "      <td>Javascript / Typescript, Docker</td>\n",
       "      <td>...</td>\n",
       "      <td>100000</td>\n",
       "      <td>30</td>\n",
       "      <td>Self-employed (freelancer)</td>\n",
       "      <td>Temporary contract</td>\n",
       "      <td>English</td>\n",
       "      <td>101-1000</td>\n",
       "      <td>Product</td>\n",
       "      <td>Yes</td>\n",
       "      <td>NaN</td>\n",
       "      <td>NaN</td>\n",
       "    </tr>\n",
       "    <tr>\n",
       "      <th>3</th>\n",
       "      <td>24/11/2020 11:15</td>\n",
       "      <td>28.0</td>\n",
       "      <td>Male</td>\n",
       "      <td>Berlin</td>\n",
       "      <td>Frontend Developer</td>\n",
       "      <td>4</td>\n",
       "      <td>1</td>\n",
       "      <td>Junior</td>\n",
       "      <td>Javascript</td>\n",
       "      <td>NaN</td>\n",
       "      <td>...</td>\n",
       "      <td>NaN</td>\n",
       "      <td>24</td>\n",
       "      <td>Full-time employee</td>\n",
       "      <td>Unlimited contract</td>\n",
       "      <td>English</td>\n",
       "      <td>51-100</td>\n",
       "      <td>Startup</td>\n",
       "      <td>No</td>\n",
       "      <td>NaN</td>\n",
       "      <td>NaN</td>\n",
       "    </tr>\n",
       "    <tr>\n",
       "      <th>4</th>\n",
       "      <td>24/11/2020 11:15</td>\n",
       "      <td>37.0</td>\n",
       "      <td>Male</td>\n",
       "      <td>Berlin</td>\n",
       "      <td>Backend Developer</td>\n",
       "      <td>17</td>\n",
       "      <td>6</td>\n",
       "      <td>Senior</td>\n",
       "      <td>C# .NET</td>\n",
       "      <td>.NET, SQL, AWS, Docker</td>\n",
       "      <td>...</td>\n",
       "      <td>NaN</td>\n",
       "      <td>29</td>\n",
       "      <td>Full-time employee</td>\n",
       "      <td>Unlimited contract</td>\n",
       "      <td>English</td>\n",
       "      <td>101-1000</td>\n",
       "      <td>Product</td>\n",
       "      <td>No</td>\n",
       "      <td>NaN</td>\n",
       "      <td>NaN</td>\n",
       "    </tr>\n",
       "  </tbody>\n",
       "</table>\n",
       "<p>5 rows × 23 columns</p>\n",
       "</div>"
      ],
      "text/plain": [
       "          Timestamp   Age Gender    City           Position   \\\n",
       "0  24/11/2020 11:14  26.0   Male  Munich   Software Engineer   \n",
       "1  24/11/2020 11:14  26.0   Male  Berlin   Backend Developer   \n",
       "2  24/11/2020 11:14  29.0   Male  Berlin   Software Engineer   \n",
       "3  24/11/2020 11:15  28.0   Male  Berlin  Frontend Developer   \n",
       "4  24/11/2020 11:15  37.0   Male  Berlin   Backend Developer   \n",
       "\n",
       "  Total years of experience Years of experience in Germany Seniority level  \\\n",
       "0                         5                              3          Senior   \n",
       "1                         7                              4          Senior   \n",
       "2                        12                              6            Lead   \n",
       "3                         4                              1          Junior   \n",
       "4                        17                              6          Senior   \n",
       "\n",
       "  Your main technology / programming language  \\\n",
       "0                                  TypeScript   \n",
       "1                                        Ruby   \n",
       "2                     Javascript / Typescript   \n",
       "3                                  Javascript   \n",
       "4                                     C# .NET   \n",
       "\n",
       "  Other technologies/programming languages you use often  ...  \\\n",
       "0                    Kotlin, Javascript / Typescript      ...   \n",
       "1                                                NaN      ...   \n",
       "2                    Javascript / Typescript, Docker      ...   \n",
       "3                                                NaN      ...   \n",
       "4                             .NET, SQL, AWS, Docker      ...   \n",
       "\n",
       "   Annual bonus+stocks one year ago. Only answer if staying in same country  \\\n",
       "0                                              10000                          \n",
       "1                                               5000                          \n",
       "2                                             100000                          \n",
       "3                                                NaN                          \n",
       "4                                                NaN                          \n",
       "\n",
       "  Number of vacation days           Employment status   Сontract duration  \\\n",
       "0                      30          Full-time employee  Unlimited contract   \n",
       "1                      28          Full-time employee  Unlimited contract   \n",
       "2                      30  Self-employed (freelancer)  Temporary contract   \n",
       "3                      24          Full-time employee  Unlimited contract   \n",
       "4                      29          Full-time employee  Unlimited contract   \n",
       "\n",
       "  Main language at work Company size Company type  \\\n",
       "0               English       51-100      Product   \n",
       "1               English     101-1000      Product   \n",
       "2               English     101-1000      Product   \n",
       "3               English       51-100      Startup   \n",
       "4               English     101-1000      Product   \n",
       "\n",
       "  Have you lost your job due to the coronavirus outbreak?  \\\n",
       "0                                                 No        \n",
       "1                                                 No        \n",
       "2                                                Yes        \n",
       "3                                                 No        \n",
       "4                                                 No        \n",
       "\n",
       "  Have you been forced to have a shorter working week (Kurzarbeit)? If yes, how many hours per week  \\\n",
       "0                                                NaN                                                  \n",
       "1                                                NaN                                                  \n",
       "2                                                NaN                                                  \n",
       "3                                                NaN                                                  \n",
       "4                                                NaN                                                  \n",
       "\n",
       "  Have you received additional monetary support from your employer due to Work From Home? If yes, how much in 2020 in EUR  \n",
       "0                                                NaN                                                                       \n",
       "1                                                NaN                                                                       \n",
       "2                                                NaN                                                                       \n",
       "3                                                NaN                                                                       \n",
       "4                                                NaN                                                                       \n",
       "\n",
       "[5 rows x 23 columns]"
      ]
     },
<<<<<<< HEAD
     "execution_count": 2,
=======
     "execution_count": 44,
>>>>>>> b33b10b77d45e805feac824d85b8a57d3a31485a
     "metadata": {},
     "output_type": "execute_result"
    }
   ],
   "source": [
    "# view 2020 dataset\n",
    "df_20 = pd.read_csv('IT_Salary_Survey_EU_2020.csv')\n",
    "df_20.head()"
   ]
  },
  {
   "cell_type": "code",
<<<<<<< HEAD
   "execution_count": 3,
   "id": "cbffc409",
=======
   "execution_count": 45,
   "id": "557a91e8",
>>>>>>> b33b10b77d45e805feac824d85b8a57d3a31485a
   "metadata": {},
   "outputs": [
    {
     "data": {
      "text/html": [
       "<div>\n",
       "<style scoped>\n",
       "    .dataframe tbody tr th:only-of-type {\n",
       "        vertical-align: middle;\n",
       "    }\n",
       "\n",
       "    .dataframe tbody tr th {\n",
       "        vertical-align: top;\n",
       "    }\n",
       "\n",
       "    .dataframe thead th {\n",
       "        text-align: right;\n",
       "    }\n",
       "</style>\n",
       "<table border=\"1\" class=\"dataframe\">\n",
       "  <thead>\n",
       "    <tr style=\"text-align: right;\">\n",
       "      <th></th>\n",
       "      <th>Timestamp</th>\n",
       "      <th>Age</th>\n",
       "      <th>Gender</th>\n",
       "      <th>City</th>\n",
       "      <th>Position</th>\n",
       "      <th>Total years of experience</th>\n",
       "      <th>Years of experience in Germany</th>\n",
       "      <th>Seniority level</th>\n",
       "      <th>Your main technology / programming language</th>\n",
       "      <th>Other technologies/programming languages you use often</th>\n",
       "      <th>...</th>\n",
       "      <th>Annual bonus+stocks one year ago. Only answer if staying in same country</th>\n",
       "      <th>Number of vacation days</th>\n",
       "      <th>Employment status</th>\n",
       "      <th>Сontract duration</th>\n",
       "      <th>Main language at work</th>\n",
       "      <th>Company size</th>\n",
       "      <th>Company type</th>\n",
       "      <th>Have you lost your job due to the coronavirus outbreak?</th>\n",
       "      <th>Have you been forced to have a shorter working week (Kurzarbeit)? If yes, how many hours per week</th>\n",
       "      <th>Have you received additional monetary support from your employer due to Work From Home? If yes, how much in 2020 in EUR</th>\n",
       "    </tr>\n",
       "  </thead>\n",
       "  <tbody>\n",
       "    <tr>\n",
       "      <th>0</th>\n",
       "      <td>24/11/2020 11:14</td>\n",
       "      <td>26.0</td>\n",
       "      <td>Male</td>\n",
       "      <td>Munich</td>\n",
       "      <td>Software Engineer</td>\n",
       "      <td>5</td>\n",
       "      <td>3</td>\n",
       "      <td>Senior</td>\n",
       "      <td>TypeScript</td>\n",
       "      <td>Kotlin, Javascript / Typescript</td>\n",
       "      <td>...</td>\n",
       "      <td>10000</td>\n",
       "      <td>30</td>\n",
       "      <td>Full-time employee</td>\n",
       "      <td>Unlimited contract</td>\n",
       "      <td>English</td>\n",
       "      <td>51-100</td>\n",
       "      <td>Product</td>\n",
       "      <td>No</td>\n",
       "      <td>NaN</td>\n",
       "      <td>NaN</td>\n",
       "    </tr>\n",
       "    <tr>\n",
       "      <th>1</th>\n",
       "      <td>24/11/2020 11:14</td>\n",
       "      <td>26.0</td>\n",
       "      <td>Male</td>\n",
       "      <td>Berlin</td>\n",
       "      <td>Backend Developer</td>\n",
       "      <td>7</td>\n",
       "      <td>4</td>\n",
       "      <td>Senior</td>\n",
       "      <td>Ruby</td>\n",
       "      <td>NaN</td>\n",
       "      <td>...</td>\n",
       "      <td>5000</td>\n",
       "      <td>28</td>\n",
       "      <td>Full-time employee</td>\n",
       "      <td>Unlimited contract</td>\n",
       "      <td>English</td>\n",
       "      <td>101-1000</td>\n",
       "      <td>Product</td>\n",
       "      <td>No</td>\n",
       "      <td>NaN</td>\n",
       "      <td>NaN</td>\n",
       "    </tr>\n",
       "    <tr>\n",
       "      <th>3</th>\n",
       "      <td>24/11/2020 11:15</td>\n",
       "      <td>28.0</td>\n",
       "      <td>Male</td>\n",
       "      <td>Berlin</td>\n",
       "      <td>Frontend Developer</td>\n",
       "      <td>4</td>\n",
       "      <td>1</td>\n",
       "      <td>Junior</td>\n",
       "      <td>Javascript</td>\n",
       "      <td>NaN</td>\n",
       "      <td>...</td>\n",
       "      <td>NaN</td>\n",
       "      <td>24</td>\n",
       "      <td>Full-time employee</td>\n",
       "      <td>Unlimited contract</td>\n",
       "      <td>English</td>\n",
       "      <td>51-100</td>\n",
       "      <td>Startup</td>\n",
       "      <td>No</td>\n",
       "      <td>NaN</td>\n",
       "      <td>NaN</td>\n",
       "    </tr>\n",
       "    <tr>\n",
       "      <th>4</th>\n",
       "      <td>24/11/2020 11:15</td>\n",
       "      <td>37.0</td>\n",
       "      <td>Male</td>\n",
       "      <td>Berlin</td>\n",
       "      <td>Backend Developer</td>\n",
       "      <td>17</td>\n",
       "      <td>6</td>\n",
       "      <td>Senior</td>\n",
       "      <td>C# .NET</td>\n",
       "      <td>.NET, SQL, AWS, Docker</td>\n",
       "      <td>...</td>\n",
       "      <td>NaN</td>\n",
       "      <td>29</td>\n",
       "      <td>Full-time employee</td>\n",
       "      <td>Unlimited contract</td>\n",
       "      <td>English</td>\n",
       "      <td>101-1000</td>\n",
       "      <td>Product</td>\n",
       "      <td>No</td>\n",
       "      <td>NaN</td>\n",
       "      <td>NaN</td>\n",
       "    </tr>\n",
       "    <tr>\n",
       "      <th>5</th>\n",
       "      <td>24/11/2020 11:15</td>\n",
       "      <td>32.0</td>\n",
       "      <td>Male</td>\n",
       "      <td>Berlin</td>\n",
       "      <td>DevOps</td>\n",
       "      <td>5</td>\n",
       "      <td>1</td>\n",
       "      <td>Senior</td>\n",
       "      <td>AWS, GCP, Python,K8s</td>\n",
       "      <td>Python, AWS, Google Cloud, Kubernetes, Docker</td>\n",
       "      <td>...</td>\n",
       "      <td>5000</td>\n",
       "      <td>30</td>\n",
       "      <td>Full-time employee</td>\n",
       "      <td>Unlimited contract</td>\n",
       "      <td>English</td>\n",
       "      <td>Nov-50</td>\n",
       "      <td>Startup</td>\n",
       "      <td>No</td>\n",
       "      <td>NaN</td>\n",
       "      <td>NaN</td>\n",
       "    </tr>\n",
       "  </tbody>\n",
       "</table>\n",
       "<p>5 rows × 23 columns</p>\n",
       "</div>"
      ],
      "text/plain": [
       "          Timestamp   Age Gender    City           Position   \\\n",
       "0  24/11/2020 11:14  26.0   Male  Munich   Software Engineer   \n",
       "1  24/11/2020 11:14  26.0   Male  Berlin   Backend Developer   \n",
       "3  24/11/2020 11:15  28.0   Male  Berlin  Frontend Developer   \n",
       "4  24/11/2020 11:15  37.0   Male  Berlin   Backend Developer   \n",
       "5  24/11/2020 11:15  32.0   Male  Berlin              DevOps   \n",
       "\n",
       "  Total years of experience Years of experience in Germany Seniority level  \\\n",
       "0                         5                              3          Senior   \n",
       "1                         7                              4          Senior   \n",
       "3                         4                              1          Junior   \n",
       "4                        17                              6          Senior   \n",
       "5                         5                              1          Senior   \n",
       "\n",
       "  Your main technology / programming language  \\\n",
       "0                                  TypeScript   \n",
       "1                                        Ruby   \n",
       "3                                  Javascript   \n",
       "4                                     C# .NET   \n",
       "5                        AWS, GCP, Python,K8s   \n",
       "\n",
       "  Other technologies/programming languages you use often  ...  \\\n",
       "0                    Kotlin, Javascript / Typescript      ...   \n",
       "1                                                NaN      ...   \n",
       "3                                                NaN      ...   \n",
       "4                             .NET, SQL, AWS, Docker      ...   \n",
       "5      Python, AWS, Google Cloud, Kubernetes, Docker      ...   \n",
       "\n",
       "   Annual bonus+stocks one year ago. Only answer if staying in same country  \\\n",
       "0                                              10000                          \n",
       "1                                               5000                          \n",
       "3                                                NaN                          \n",
       "4                                                NaN                          \n",
       "5                                               5000                          \n",
       "\n",
       "  Number of vacation days   Employment status   Сontract duration  \\\n",
       "0                      30  Full-time employee  Unlimited contract   \n",
       "1                      28  Full-time employee  Unlimited contract   \n",
       "3                      24  Full-time employee  Unlimited contract   \n",
       "4                      29  Full-time employee  Unlimited contract   \n",
       "5                      30  Full-time employee  Unlimited contract   \n",
       "\n",
       "  Main language at work Company size Company type  \\\n",
       "0               English       51-100      Product   \n",
       "1               English     101-1000      Product   \n",
       "3               English       51-100      Startup   \n",
       "4               English     101-1000      Product   \n",
       "5               English       Nov-50      Startup   \n",
       "\n",
       "  Have you lost your job due to the coronavirus outbreak?  \\\n",
       "0                                                 No        \n",
       "1                                                 No        \n",
       "3                                                 No        \n",
       "4                                                 No        \n",
       "5                                                 No        \n",
       "\n",
       "  Have you been forced to have a shorter working week (Kurzarbeit)? If yes, how many hours per week  \\\n",
       "0                                                NaN                                                  \n",
       "1                                                NaN                                                  \n",
       "3                                                NaN                                                  \n",
       "4                                                NaN                                                  \n",
       "5                                                NaN                                                  \n",
       "\n",
       "  Have you received additional monetary support from your employer due to Work From Home? If yes, how much in 2020 in EUR  \n",
       "0                                                NaN                                                                       \n",
       "1                                                NaN                                                                       \n",
       "3                                                NaN                                                                       \n",
       "4                                                NaN                                                                       \n",
       "5                                                NaN                                                                       \n",
       "\n",
       "[5 rows x 23 columns]"
      ]
     },
<<<<<<< HEAD
     "execution_count": 3,
=======
     "execution_count": 45,
>>>>>>> b33b10b77d45e805feac824d85b8a57d3a31485a
     "metadata": {},
     "output_type": "execute_result"
    }
   ],
   "source": [
    "# drop rows with self-employed\n",
    "df_20.drop(df_20[df_20['Employment status'] != \"Full-time employee\" ].index, inplace=True)\n",
    "df_20.head()"
   ]
  },
  {
   "cell_type": "code",
<<<<<<< HEAD
   "execution_count": 4,
   "id": "05acfd64",
=======
   "execution_count": 46,
   "id": "09320762",
>>>>>>> b33b10b77d45e805feac824d85b8a57d3a31485a
   "metadata": {},
   "outputs": [
    {
     "data": {
      "text/html": [
       "<div>\n",
       "<style scoped>\n",
       "    .dataframe tbody tr th:only-of-type {\n",
       "        vertical-align: middle;\n",
       "    }\n",
       "\n",
       "    .dataframe tbody tr th {\n",
       "        vertical-align: top;\n",
       "    }\n",
       "\n",
       "    .dataframe thead th {\n",
       "        text-align: right;\n",
       "    }\n",
       "</style>\n",
       "<table border=\"1\" class=\"dataframe\">\n",
       "  <thead>\n",
       "    <tr style=\"text-align: right;\">\n",
       "      <th></th>\n",
       "      <th>Zeitstempel</th>\n",
       "      <th>Age</th>\n",
       "      <th>Gender</th>\n",
       "      <th>City</th>\n",
       "      <th>Seniority level</th>\n",
       "      <th>Position (without seniority)</th>\n",
       "      <th>Years of experience</th>\n",
       "      <th>Your main technology / programming language</th>\n",
       "      <th>Yearly brutto salary (without bonus and stocks)</th>\n",
       "      <th>Yearly bonus</th>\n",
       "      <th>...</th>\n",
       "      <th>Yearly stocks one year ago. Only answer if staying in same country</th>\n",
       "      <th>Number of vacation days</th>\n",
       "      <th>Number of home office days per month</th>\n",
       "      <th>Main language at work</th>\n",
       "      <th>Company name</th>\n",
       "      <th>Company size</th>\n",
       "      <th>Company type</th>\n",
       "      <th>Сontract duration</th>\n",
       "      <th>Company business sector</th>\n",
       "      <th>0</th>\n",
       "    </tr>\n",
       "  </thead>\n",
       "  <tbody>\n",
       "    <tr>\n",
       "      <th>0</th>\n",
       "      <td>02.12.2019 11:18:26</td>\n",
       "      <td>33.0</td>\n",
       "      <td>Male</td>\n",
       "      <td>Berlin</td>\n",
       "      <td>Senior</td>\n",
       "      <td>Fullstack Developer</td>\n",
       "      <td>13</td>\n",
       "      <td>PHP</td>\n",
       "      <td>64000.0</td>\n",
       "      <td>1000.0</td>\n",
       "      <td>...</td>\n",
       "      <td>NaN</td>\n",
       "      <td>29.0</td>\n",
       "      <td>4.0</td>\n",
       "      <td>English</td>\n",
       "      <td>NaN</td>\n",
       "      <td>50-100</td>\n",
       "      <td>Startup</td>\n",
       "      <td>unlimited</td>\n",
       "      <td>Tourism</td>\n",
       "      <td>NaN</td>\n",
       "    </tr>\n",
       "    <tr>\n",
       "      <th>1</th>\n",
       "      <td>02.12.2019 11:18:35</td>\n",
       "      <td>29.0</td>\n",
       "      <td>Male</td>\n",
       "      <td>Berlin</td>\n",
       "      <td>Middle</td>\n",
       "      <td>Backend Developer</td>\n",
       "      <td>3</td>\n",
       "      <td>Python</td>\n",
       "      <td>55000.0</td>\n",
       "      <td>NaN</td>\n",
       "      <td>...</td>\n",
       "      <td>NaN</td>\n",
       "      <td>22.0</td>\n",
       "      <td>4.0</td>\n",
       "      <td>English</td>\n",
       "      <td>NaN</td>\n",
       "      <td>Oct-50</td>\n",
       "      <td>Product</td>\n",
       "      <td>unlimited</td>\n",
       "      <td>Scientific Activities</td>\n",
       "      <td>NaN</td>\n",
       "    </tr>\n",
       "    <tr>\n",
       "      <th>2</th>\n",
       "      <td>02.12.2019 11:18:56</td>\n",
       "      <td>NaN</td>\n",
       "      <td>Male</td>\n",
       "      <td>Berlin</td>\n",
       "      <td>Middle</td>\n",
       "      <td>Mobile Developer</td>\n",
       "      <td>4</td>\n",
       "      <td>Kotlin</td>\n",
       "      <td>70000.0</td>\n",
       "      <td>NaN</td>\n",
       "      <td>...</td>\n",
       "      <td>NaN</td>\n",
       "      <td>27.0</td>\n",
       "      <td>NaN</td>\n",
       "      <td>English</td>\n",
       "      <td>NaN</td>\n",
       "      <td>1000+</td>\n",
       "      <td>Startup</td>\n",
       "      <td>unlimited</td>\n",
       "      <td>NaN</td>\n",
       "      <td>NaN</td>\n",
       "    </tr>\n",
       "    <tr>\n",
       "      <th>3</th>\n",
       "      <td>02.12.2019 11:19:08</td>\n",
       "      <td>30.0</td>\n",
       "      <td>Male</td>\n",
       "      <td>Berlin</td>\n",
       "      <td>Senior</td>\n",
       "      <td>Backend Developer</td>\n",
       "      <td>6</td>\n",
       "      <td>PHP</td>\n",
       "      <td>63000.0</td>\n",
       "      <td>NaN</td>\n",
       "      <td>...</td>\n",
       "      <td>NaN</td>\n",
       "      <td>24.0</td>\n",
       "      <td>NaN</td>\n",
       "      <td>English</td>\n",
       "      <td>Auto1</td>\n",
       "      <td>100-1000</td>\n",
       "      <td>Product</td>\n",
       "      <td>unlimited</td>\n",
       "      <td>Transport</td>\n",
       "      <td>NaN</td>\n",
       "    </tr>\n",
       "    <tr>\n",
       "      <th>4</th>\n",
       "      <td>02.12.2019 11:19:37</td>\n",
       "      <td>32.0</td>\n",
       "      <td>Male</td>\n",
       "      <td>Berlin</td>\n",
       "      <td>Senior</td>\n",
       "      <td>Embedded Developer</td>\n",
       "      <td>10</td>\n",
       "      <td>C/C++</td>\n",
       "      <td>66000.0</td>\n",
       "      <td>NaN</td>\n",
       "      <td>...</td>\n",
       "      <td>NaN</td>\n",
       "      <td>30.0</td>\n",
       "      <td>0.0</td>\n",
       "      <td>English</td>\n",
       "      <td>Luxoft</td>\n",
       "      <td>50-100</td>\n",
       "      <td>Product</td>\n",
       "      <td>unlimited</td>\n",
       "      <td>Automotive</td>\n",
       "      <td>NaN</td>\n",
       "    </tr>\n",
       "  </tbody>\n",
       "</table>\n",
       "<p>5 rows × 23 columns</p>\n",
       "</div>"
      ],
      "text/plain": [
       "           Zeitstempel   Age Gender    City Seniority level  \\\n",
       "0  02.12.2019 11:18:26  33.0   Male  Berlin          Senior   \n",
       "1  02.12.2019 11:18:35  29.0   Male  Berlin          Middle   \n",
       "2  02.12.2019 11:18:56   NaN   Male  Berlin          Middle   \n",
       "3  02.12.2019 11:19:08  30.0   Male  Berlin          Senior   \n",
       "4  02.12.2019 11:19:37  32.0   Male  Berlin          Senior   \n",
       "\n",
       "  Position (without seniority)  Years of experience  \\\n",
       "0          Fullstack Developer                   13   \n",
       "1            Backend Developer                    3   \n",
       "2             Mobile Developer                    4   \n",
       "3            Backend Developer                    6   \n",
       "4           Embedded Developer                   10   \n",
       "\n",
       "  Your main technology / programming language  \\\n",
       "0                                         PHP   \n",
       "1                                      Python   \n",
       "2                                      Kotlin   \n",
       "3                                         PHP   \n",
       "4                                       C/C++   \n",
       "\n",
       "   Yearly brutto salary (without bonus and stocks)  Yearly bonus  ...  \\\n",
       "0                                          64000.0        1000.0  ...   \n",
       "1                                          55000.0           NaN  ...   \n",
       "2                                          70000.0           NaN  ...   \n",
       "3                                          63000.0           NaN  ...   \n",
       "4                                          66000.0           NaN  ...   \n",
       "\n",
       "   Yearly stocks one year ago. Only answer if staying in same country  \\\n",
       "0                                                NaN                    \n",
       "1                                                NaN                    \n",
       "2                                                NaN                    \n",
       "3                                                NaN                    \n",
       "4                                                NaN                    \n",
       "\n",
       "   Number of vacation days  Number of home office days per month  \\\n",
       "0                     29.0                                   4.0   \n",
       "1                     22.0                                   4.0   \n",
       "2                     27.0                                   NaN   \n",
       "3                     24.0                                   NaN   \n",
       "4                     30.0                                   0.0   \n",
       "\n",
       "   Main language at work  Company name   Company size Company type  \\\n",
       "0                English            NaN        50-100      Startup   \n",
       "1                English            NaN        Oct-50      Product   \n",
       "2                English            NaN         1000+      Startup   \n",
       "3                English          Auto1      100-1000      Product   \n",
       "4                English         Luxoft        50-100      Product   \n",
       "\n",
       "  Сontract duration Company business sector   0  \n",
       "0         unlimited                 Tourism NaN  \n",
       "1         unlimited   Scientific Activities NaN  \n",
       "2         unlimited                     NaN NaN  \n",
       "3         unlimited               Transport NaN  \n",
       "4         unlimited              Automotive NaN  \n",
       "\n",
       "[5 rows x 23 columns]"
      ]
     },
<<<<<<< HEAD
     "execution_count": 4,
=======
     "execution_count": 46,
>>>>>>> b33b10b77d45e805feac824d85b8a57d3a31485a
     "metadata": {},
     "output_type": "execute_result"
    }
   ],
   "source": [
    "# view 2019 dataset\n",
    "df_19 = pd.read_csv('IT_Salary_Survey_EU_2019.csv')\n",
    "df_19.head()"
   ]
  },
  {
   "cell_type": "code",
<<<<<<< HEAD
   "execution_count": 5,
   "id": "8c6ec608",
=======
   "execution_count": 47,
   "id": "186dde86",
>>>>>>> b33b10b77d45e805feac824d85b8a57d3a31485a
   "metadata": {},
   "outputs": [
    {
     "data": {
      "text/plain": [
       "Index(['Timestamp', 'Age', 'Gender', 'City', 'Position ',\n",
       "       'Total years of experience', 'Years of experience in Germany',\n",
       "       'Seniority level', 'Your main technology / programming language',\n",
       "       'Other technologies/programming languages you use often',\n",
       "       'Yearly brutto salary (without bonus and stocks) in EUR',\n",
       "       'Yearly bonus + stocks in EUR',\n",
       "       'Annual brutto salary (without bonus and stocks) one year ago. Only answer if staying in the same country',\n",
       "       'Annual bonus+stocks one year ago. Only answer if staying in same country',\n",
       "       'Number of vacation days', 'Employment status', 'Сontract duration',\n",
       "       'Main language at work', 'Company size', 'Company type',\n",
       "       'Have you lost your job due to the coronavirus outbreak?',\n",
       "       'Have you been forced to have a shorter working week (Kurzarbeit)? If yes, how many hours per week',\n",
       "       'Have you received additional monetary support from your employer due to Work From Home? If yes, how much in 2020 in EUR'],\n",
       "      dtype='object')"
      ]
     },
<<<<<<< HEAD
     "execution_count": 5,
=======
<<<<<<< HEAD
     "execution_count": 47,
=======
     "execution_count": 66,
>>>>>>> 2ed662852534a6a132b37179c98bc1894935fc58
>>>>>>> b33b10b77d45e805feac824d85b8a57d3a31485a
     "metadata": {},
     "output_type": "execute_result"
    }
   ],
   "source": [
    "df_20.columns"
   ]
  },
  {
   "cell_type": "code",
<<<<<<< HEAD
   "execution_count": 6,
=======
<<<<<<< HEAD
   "execution_count": 48,
   "id": "35dc36a3",
=======
   "execution_count": 67,
>>>>>>> b33b10b77d45e805feac824d85b8a57d3a31485a
   "id": "08f44e2a",
>>>>>>> 2ed662852534a6a132b37179c98bc1894935fc58
   "metadata": {},
   "outputs": [
    {
     "data": {
      "text/html": [
       "<div>\n",
       "<style scoped>\n",
       "    .dataframe tbody tr th:only-of-type {\n",
       "        vertical-align: middle;\n",
       "    }\n",
       "\n",
       "    .dataframe tbody tr th {\n",
       "        vertical-align: top;\n",
       "    }\n",
       "\n",
       "    .dataframe thead th {\n",
       "        text-align: right;\n",
       "    }\n",
       "</style>\n",
       "<table border=\"1\" class=\"dataframe\">\n",
       "  <thead>\n",
       "    <tr style=\"text-align: right;\">\n",
       "      <th></th>\n",
       "      <th>Age</th>\n",
       "      <th>Gender</th>\n",
       "      <th>Position</th>\n",
       "      <th>Total years of experience</th>\n",
       "      <th>Seniority level</th>\n",
       "      <th>Your main technology / programming language</th>\n",
       "      <th>Yearly brutto salary (without bonus and stocks) in EUR</th>\n",
       "      <th>Yearly bonus + stocks in EUR</th>\n",
       "      <th>Company size</th>\n",
       "    </tr>\n",
       "  </thead>\n",
       "  <tbody>\n",
       "    <tr>\n",
       "      <th>0</th>\n",
       "      <td>26.0</td>\n",
       "      <td>Male</td>\n",
       "      <td>Software Engineer</td>\n",
       "      <td>5</td>\n",
       "      <td>Senior</td>\n",
       "      <td>TypeScript ,Kotlin, Javascript / Typescript</td>\n",
       "      <td>80000.0</td>\n",
       "      <td>5000</td>\n",
       "      <td>51-100</td>\n",
       "    </tr>\n",
       "    <tr>\n",
       "      <th>1</th>\n",
       "      <td>26.0</td>\n",
       "      <td>Male</td>\n",
       "      <td>Backend Developer</td>\n",
       "      <td>7</td>\n",
       "      <td>Senior</td>\n",
       "      <td>NaN</td>\n",
       "      <td>80000.0</td>\n",
       "      <td>NaN</td>\n",
       "      <td>101-1000</td>\n",
       "    </tr>\n",
       "    <tr>\n",
       "      <th>3</th>\n",
       "      <td>28.0</td>\n",
       "      <td>Male</td>\n",
       "      <td>Frontend Developer</td>\n",
       "      <td>4</td>\n",
       "      <td>Junior</td>\n",
       "      <td>NaN</td>\n",
       "      <td>54000.0</td>\n",
       "      <td>NaN</td>\n",
       "      <td>51-100</td>\n",
       "    </tr>\n",
       "    <tr>\n",
       "      <th>4</th>\n",
       "      <td>37.0</td>\n",
       "      <td>Male</td>\n",
       "      <td>Backend Developer</td>\n",
       "      <td>17</td>\n",
       "      <td>Senior</td>\n",
       "      <td>C# .NET ,.NET, SQL, AWS, Docker</td>\n",
       "      <td>62000.0</td>\n",
       "      <td>NaN</td>\n",
       "      <td>101-1000</td>\n",
       "    </tr>\n",
       "    <tr>\n",
       "      <th>5</th>\n",
       "      <td>32.0</td>\n",
       "      <td>Male</td>\n",
       "      <td>DevOps</td>\n",
       "      <td>5</td>\n",
       "      <td>Senior</td>\n",
       "      <td>AWS, GCP, Python,K8s ,Python, AWS, Google Clou...</td>\n",
       "      <td>76000.0</td>\n",
       "      <td>5000</td>\n",
       "      <td>Nov-50</td>\n",
       "    </tr>\n",
       "  </tbody>\n",
       "</table>\n",
       "</div>"
      ],
      "text/plain": [
       "    Age Gender           Position  Total years of experience Seniority level  \\\n",
       "0  26.0   Male   Software Engineer                         5          Senior   \n",
       "1  26.0   Male   Backend Developer                         7          Senior   \n",
       "3  28.0   Male  Frontend Developer                         4          Junior   \n",
       "4  37.0   Male   Backend Developer                        17          Senior   \n",
       "5  32.0   Male              DevOps                         5          Senior   \n",
       "\n",
       "         Your main technology / programming language  \\\n",
       "0        TypeScript ,Kotlin, Javascript / Typescript   \n",
       "1                                                NaN   \n",
       "3                                                NaN   \n",
       "4                    C# .NET ,.NET, SQL, AWS, Docker   \n",
       "5  AWS, GCP, Python,K8s ,Python, AWS, Google Clou...   \n",
       "\n",
       "   Yearly brutto salary (without bonus and stocks) in EUR  \\\n",
       "0                                            80000.0        \n",
       "1                                            80000.0        \n",
       "3                                            54000.0        \n",
       "4                                            62000.0        \n",
       "5                                            76000.0        \n",
       "\n",
       "  Yearly bonus + stocks in EUR Company size  \n",
       "0                         5000       51-100  \n",
       "1                          NaN     101-1000  \n",
       "3                          NaN       51-100  \n",
       "4                          NaN     101-1000  \n",
       "5                         5000       Nov-50  "
      ]
     },
<<<<<<< HEAD
     "execution_count": 6,
=======
     "execution_count": 48,
>>>>>>> b33b10b77d45e805feac824d85b8a57d3a31485a
     "metadata": {},
     "output_type": "execute_result"
    }
   ],
   "source": [
    "# compare the 2 datasets and keep relevant columns\n",
    "\n",
    "# concat the 2 skills columns\n",
    "df_20['Your main technology / programming language'] = df_20['Your main technology / programming language'] + \" ,\" + df_20['Other technologies/programming languages you use often']\n",
    "\n",
    "df_20 = df_20.loc[:, ['Age', 'Gender', 'Position ', 'Total years of experience', 'Seniority level', 'Your main technology / programming language', \n",
    "                      'Yearly brutto salary (without bonus and stocks) in EUR',\n",
    "                   'Yearly bonus + stocks in EUR', 'Company size']]\n",
    "df_20.head()"
   ]
  },
  {
   "cell_type": "code",
<<<<<<< HEAD
   "execution_count": 7,
   "id": "fcee9bdc",
   "metadata": {
    "scrolled": true
   },
=======
   "execution_count": 49,
   "id": "12175a7f",
   "metadata": {},
>>>>>>> b33b10b77d45e805feac824d85b8a57d3a31485a
   "outputs": [
    {
     "data": {
      "text/plain": [
       "Index(['Zeitstempel', 'Age', 'Gender', 'City', 'Seniority level',\n",
       "       'Position (without seniority)', 'Years of experience',\n",
       "       'Your main technology / programming language',\n",
       "       'Yearly brutto salary (without bonus and stocks)', 'Yearly bonus',\n",
       "       'Yearly stocks',\n",
       "       'Yearly brutto salary (without bonus and stocks) one year ago. Only answer if staying in same country',\n",
       "       'Yearly bonus one year ago. Only answer if staying in same country',\n",
       "       'Yearly stocks one year ago. Only answer if staying in same country',\n",
       "       'Number of vacation days', 'Number of home office days per month',\n",
       "       'Main language at work', 'Company name ', 'Company size',\n",
       "       'Company type', 'Сontract duration', 'Company business sector', '0'],\n",
       "      dtype='object')"
      ]
     },
<<<<<<< HEAD
     "execution_count": 7,
=======
     "execution_count": 49,
>>>>>>> b33b10b77d45e805feac824d85b8a57d3a31485a
     "metadata": {},
     "output_type": "execute_result"
    }
   ],
   "source": [
    "df_19.columns"
   ]
  },
  {
   "cell_type": "code",
<<<<<<< HEAD
   "execution_count": 8,
   "id": "5f3bbd83",
=======
   "execution_count": 50,
   "id": "0a25b11e",
>>>>>>> b33b10b77d45e805feac824d85b8a57d3a31485a
   "metadata": {},
   "outputs": [
    {
     "data": {
      "text/html": [
       "<div>\n",
       "<style scoped>\n",
       "    .dataframe tbody tr th:only-of-type {\n",
       "        vertical-align: middle;\n",
       "    }\n",
       "\n",
       "    .dataframe tbody tr th {\n",
       "        vertical-align: top;\n",
       "    }\n",
       "\n",
       "    .dataframe thead th {\n",
       "        text-align: right;\n",
       "    }\n",
       "</style>\n",
       "<table border=\"1\" class=\"dataframe\">\n",
       "  <thead>\n",
       "    <tr style=\"text-align: right;\">\n",
       "      <th></th>\n",
       "      <th>Age</th>\n",
       "      <th>Gender</th>\n",
       "      <th>Position</th>\n",
       "      <th>Total years of experience</th>\n",
       "      <th>Seniority level</th>\n",
       "      <th>Your main technology / programming language</th>\n",
       "      <th>Yearly brutto salary (without bonus and stocks) in EUR</th>\n",
       "      <th>Yearly bonus + stocks in EUR</th>\n",
       "      <th>Company size</th>\n",
       "    </tr>\n",
       "  </thead>\n",
       "  <tbody>\n",
       "    <tr>\n",
       "      <th>0</th>\n",
       "      <td>33.0</td>\n",
       "      <td>Male</td>\n",
       "      <td>Fullstack Developer</td>\n",
       "      <td>13</td>\n",
       "      <td>Senior</td>\n",
       "      <td>PHP</td>\n",
       "      <td>64000.0</td>\n",
       "      <td>1000</td>\n",
       "      <td>50-100</td>\n",
       "    </tr>\n",
       "    <tr>\n",
       "      <th>1</th>\n",
       "      <td>29.0</td>\n",
       "      <td>Male</td>\n",
       "      <td>Backend Developer</td>\n",
       "      <td>3</td>\n",
       "      <td>Middle</td>\n",
       "      <td>Python</td>\n",
       "      <td>55000.0</td>\n",
       "      <td>0</td>\n",
       "      <td>Oct-50</td>\n",
       "    </tr>\n",
       "    <tr>\n",
       "      <th>2</th>\n",
       "      <td>NaN</td>\n",
       "      <td>Male</td>\n",
       "      <td>Mobile Developer</td>\n",
       "      <td>4</td>\n",
       "      <td>Middle</td>\n",
       "      <td>Kotlin</td>\n",
       "      <td>70000.0</td>\n",
       "      <td>0</td>\n",
       "      <td>1000+</td>\n",
       "    </tr>\n",
       "    <tr>\n",
       "      <th>3</th>\n",
       "      <td>30.0</td>\n",
       "      <td>Male</td>\n",
       "      <td>Backend Developer</td>\n",
       "      <td>6</td>\n",
       "      <td>Senior</td>\n",
       "      <td>PHP</td>\n",
       "      <td>63000.0</td>\n",
       "      <td>0</td>\n",
       "      <td>100-1000</td>\n",
       "    </tr>\n",
       "    <tr>\n",
       "      <th>4</th>\n",
       "      <td>32.0</td>\n",
       "      <td>Male</td>\n",
       "      <td>Embedded Developer</td>\n",
       "      <td>10</td>\n",
       "      <td>Senior</td>\n",
       "      <td>C/C++</td>\n",
       "      <td>66000.0</td>\n",
       "      <td>0</td>\n",
       "      <td>50-100</td>\n",
       "    </tr>\n",
       "  </tbody>\n",
       "</table>\n",
       "</div>"
      ],
      "text/plain": [
       "    Age Gender            Position   Total years of experience  \\\n",
       "0  33.0   Male  Fullstack Developer                         13   \n",
       "1  29.0   Male    Backend Developer                          3   \n",
       "2   NaN   Male     Mobile Developer                          4   \n",
       "3  30.0   Male    Backend Developer                          6   \n",
       "4  32.0   Male   Embedded Developer                         10   \n",
       "\n",
       "  Seniority level Your main technology / programming language  \\\n",
       "0          Senior                                         PHP   \n",
       "1          Middle                                      Python   \n",
       "2          Middle                                      Kotlin   \n",
       "3          Senior                                         PHP   \n",
       "4          Senior                                       C/C++   \n",
       "\n",
       "   Yearly brutto salary (without bonus and stocks) in EUR  \\\n",
       "0                                            64000.0        \n",
       "1                                            55000.0        \n",
       "2                                            70000.0        \n",
       "3                                            63000.0        \n",
       "4                                            66000.0        \n",
       "\n",
       "   Yearly bonus + stocks in EUR Company size  \n",
       "0                          1000       50-100  \n",
       "1                             0       Oct-50  \n",
       "2                             0        1000+  \n",
       "3                             0     100-1000  \n",
       "4                             0       50-100  "
      ]
     },
<<<<<<< HEAD
     "execution_count": 8,
=======
     "execution_count": 50,
>>>>>>> b33b10b77d45e805feac824d85b8a57d3a31485a
     "metadata": {},
     "output_type": "execute_result"
    }
   ],
   "source": [
    "# replace nan values with 0, so that we can sum bonus and stock\n",
    "df_19['Yearly bonus'] = df_19['Yearly bonus'].fillna(0)\n",
    "df_19['Yearly stocks'] = df_19['Yearly stocks'].fillna(0)\n",
    "\n",
    "# add bonus and stocks cols\n",
    "# for same no. of cols as 2020 data, so that we can concat\n",
    "df_19['Yearly bonus'] = df_19['Yearly bonus'].astype(int) + df_19['Yearly stocks'].astype(int)\n",
    "\n",
    "df_19 = df_19.loc[:, ['Age', 'Gender', 'Position (without seniority)', 'Years of experience', 'Seniority level', 'Your main technology / programming language', \n",
    "                 'Yearly brutto salary (without bonus and stocks)',\n",
    "                   'Yearly bonus', 'Company size']]\n",
    "\n",
    "# standardise column names\n",
    "df_19.columns = df_20.columns\n",
    "\n",
    "df_19.head()"
   ]
  },
  {
   "cell_type": "code",
<<<<<<< HEAD
   "execution_count": 9,
   "id": "f41d28c3",
=======
   "execution_count": 51,
   "id": "03727d7b",
>>>>>>> b33b10b77d45e805feac824d85b8a57d3a31485a
   "metadata": {},
   "outputs": [
    {
     "data": {
      "text/html": [
       "<div>\n",
       "<style scoped>\n",
       "    .dataframe tbody tr th:only-of-type {\n",
       "        vertical-align: middle;\n",
       "    }\n",
       "\n",
       "    .dataframe tbody tr th {\n",
       "        vertical-align: top;\n",
       "    }\n",
       "\n",
       "    .dataframe thead th {\n",
       "        text-align: right;\n",
       "    }\n",
       "</style>\n",
       "<table border=\"1\" class=\"dataframe\">\n",
       "  <thead>\n",
       "    <tr style=\"text-align: right;\">\n",
       "      <th></th>\n",
       "      <th>Age</th>\n",
       "      <th>Gender</th>\n",
       "      <th>Position</th>\n",
       "      <th>Total years of experience</th>\n",
       "      <th>Seniority level</th>\n",
       "      <th>Your main technology / programming language</th>\n",
       "      <th>Yearly brutto salary (without bonus and stocks) in EUR</th>\n",
       "      <th>Yearly bonus + stocks in EUR</th>\n",
       "      <th>Company size</th>\n",
       "    </tr>\n",
       "  </thead>\n",
       "  <tbody>\n",
       "    <tr>\n",
<<<<<<< HEAD
       "      <th>358</th>\n",
       "      <td>28.0</td>\n",
       "      <td>Male</td>\n",
       "      <td>Backend Developer</td>\n",
       "      <td>5</td>\n",
       "      <td>Middle</td>\n",
       "      <td>Java ,Linux</td>\n",
       "      <td>55000.0</td>\n",
       "      <td>5000</td>\n",
       "      <td>101-1000</td>\n",
       "    </tr>\n",
       "    <tr>\n",
       "      <th>534</th>\n",
       "      <td>NaN</td>\n",
       "      <td>Female</td>\n",
       "      <td>QA</td>\n",
       "      <td>13</td>\n",
       "      <td>Senior</td>\n",
       "      <td>Java</td>\n",
       "      <td>63000.0</td>\n",
       "      <td>6000</td>\n",
       "      <td>Oct-50</td>\n",
       "    </tr>\n",
       "    <tr>\n",
       "      <th>195</th>\n",
       "      <td>36.0</td>\n",
       "      <td>Male</td>\n",
       "      <td>Solutions Architect</td>\n",
       "      <td>12</td>\n",
       "      <td>Lead</td>\n",
       "      <td>Cloud ,Kotlin, Java / Scala, AWS, Kubernetes, ...</td>\n",
       "      <td>105000.0</td>\n",
       "      <td>25000</td>\n",
       "      <td>1000+</td>\n",
       "    </tr>\n",
       "    <tr>\n",
       "      <th>245</th>\n",
       "      <td>30.0</td>\n",
       "      <td>Female</td>\n",
       "      <td>QA Engineer</td>\n",
       "      <td>6</td>\n",
       "      <td>Senior</td>\n",
       "      <td>Bash ,Python, Java / Scala, SQL, AWS, Azure</td>\n",
       "      <td>70000.0</td>\n",
       "      <td>2000</td>\n",
       "      <td>1000+</td>\n",
       "    </tr>\n",
       "    <tr>\n",
       "      <th>904</th>\n",
       "      <td>NaN</td>\n",
       "      <td>Male</td>\n",
       "      <td>Software Engineer</td>\n",
       "      <td>10</td>\n",
       "      <td>Senior</td>\n",
       "      <td>.net ,.NET, SQL, Azure</td>\n",
       "      <td>62000.0</td>\n",
       "      <td>NaN</td>\n",
=======
       "      <th>1020</th>\n",
       "      <td>32.0</td>\n",
       "      <td>Male</td>\n",
       "      <td>Data Scientist</td>\n",
       "      <td>3</td>\n",
       "      <td>Senior</td>\n",
       "      <td>Python ,R, SQL, AWS, Google Cloud</td>\n",
       "      <td>62000.0</td>\n",
       "      <td>3000</td>\n",
>>>>>>> b33b10b77d45e805feac824d85b8a57d3a31485a
       "      <td>1000+</td>\n",
       "    </tr>\n",
       "  </tbody>\n",
       "</table>\n",
       "</div>"
      ],
      "text/plain": [
       "      Age  Gender            Position  Total years of experience  \\\n",
       "358  28.0    Male    Backend Developer                         5   \n",
       "534   NaN  Female                   QA                        13   \n",
       "195  36.0    Male  Solutions Architect                        12   \n",
       "245  30.0  Female          QA Engineer                         6   \n",
       "904   NaN    Male    Software Engineer                        10   \n",
       "\n",
       "    Seniority level        Your main technology / programming language  \\\n",
       "358          Middle                                        Java ,Linux   \n",
       "534          Senior                                               Java   \n",
       "195            Lead  Cloud ,Kotlin, Java / Scala, AWS, Kubernetes, ...   \n",
       "245          Senior        Bash ,Python, Java / Scala, SQL, AWS, Azure   \n",
       "904          Senior                             .net ,.NET, SQL, Azure   \n",
       "\n",
       "     Yearly brutto salary (without bonus and stocks) in EUR  \\\n",
       "358                                            55000.0        \n",
       "534                                            63000.0        \n",
       "195                                           105000.0        \n",
       "245                                            70000.0        \n",
       "904                                            62000.0        \n",
       "\n",
       "    Yearly bonus + stocks in EUR Company size  \n",
       "358                         5000     101-1000  \n",
       "534                         6000       Oct-50  \n",
       "195                        25000        1000+  \n",
       "245                         2000        1000+  \n",
       "904                          NaN        1000+  "
      ]
     },
     "execution_count": 9,
     "metadata": {},
     "output_type": "execute_result"
    }
   ],
   "source": [
    "# use concat method to combine both datasets\n",
    "df = pd.concat([df_20, df_19])\n",
    "df.sample(5)"
   ]
  },
  {
   "cell_type": "markdown",
   "id": "ca1e02b5",
   "metadata": {},
   "source": [
    "# Cleaning up of Data"
   ]
  },
  {
   "cell_type": "code",
   "execution_count": 10,
   "id": "54ebf329",
   "metadata": {},
   "outputs": [
    {
     "name": "stdout",
     "output_type": "stream",
     "text": [
      "before cleaning data: number of rows: 2181\n",
      "before cleaning data: number of columns: 9\n"
     ]
    }
   ],
   "source": [
    "print(\"before cleaning data: number of rows:\", df.shape[0])\n",
    "print(\"before cleaning data: number of columns:\", df.shape[1])\n"
   ]
  },
  {
   "cell_type": "code",
   "execution_count": 12,
   "id": "75d05b75",
   "metadata": {},
   "outputs": [
    {
     "data": {
      "text/html": [
       "<div>\n",
       "<style scoped>\n",
       "    .dataframe tbody tr th:only-of-type {\n",
       "        vertical-align: middle;\n",
       "    }\n",
       "\n",
       "    .dataframe tbody tr th {\n",
       "        vertical-align: top;\n",
       "    }\n",
       "\n",
       "    .dataframe thead th {\n",
       "        text-align: right;\n",
       "    }\n",
       "</style>\n",
       "<table border=\"1\" class=\"dataframe\">\n",
       "  <thead>\n",
       "    <tr style=\"text-align: right;\">\n",
       "      <th></th>\n",
       "      <th>Age</th>\n",
       "      <th>Gender</th>\n",
       "      <th>Position</th>\n",
       "      <th>Total years of experience</th>\n",
       "      <th>Seniority level</th>\n",
       "      <th>Your main technology / programming language</th>\n",
       "      <th>Yearly brutto salary (without bonus and stocks) in EUR</th>\n",
       "      <th>Yearly bonus + stocks in EUR</th>\n",
       "      <th>Company size</th>\n",
       "      <th>Total compensation</th>\n",
       "    </tr>\n",
       "  </thead>\n",
       "  <tbody>\n",
       "    <tr>\n",
<<<<<<< HEAD
       "      <th>146</th>\n",
       "      <td>38.0</td>\n",
       "      <td>Male</td>\n",
       "      <td>Backend Developer</td>\n",
       "      <td>6</td>\n",
       "      <td>Senior</td>\n",
       "      <td>Java</td>\n",
       "      <td>66000.0</td>\n",
       "      <td>0</td>\n",
       "      <td>1000+</td>\n",
       "      <td>66000.0</td>\n",
       "    </tr>\n",
       "    <tr>\n",
       "      <th>935</th>\n",
       "      <td>29.0</td>\n",
       "      <td>Male</td>\n",
       "      <td>Data Scientist</td>\n",
       "      <td>6</td>\n",
       "      <td>Middle</td>\n",
       "      <td>Python  ,SQL, AWS, Google Cloud, Docker</td>\n",
       "      <td>57000.0</td>\n",
       "      <td>0</td>\n",
       "      <td>up to 10</td>\n",
       "      <td>57000.0</td>\n",
       "    </tr>\n",
       "    <tr>\n",
       "      <th>825</th>\n",
       "      <td>28.0</td>\n",
       "      <td>Male</td>\n",
       "      <td>Data Engineer</td>\n",
       "      <td>7</td>\n",
       "      <td>Senior</td>\n",
       "      <td>Python ,Python, SQL, AWS, Google Cloud, Kubern...</td>\n",
       "      <td>90000.0</td>\n",
       "      <td>0</td>\n",
       "      <td>101-1000</td>\n",
       "      <td>90000.0</td>\n",
       "    </tr>\n",
       "    <tr>\n",
       "      <th>1170</th>\n",
       "      <td>35.0</td>\n",
       "      <td>Female</td>\n",
       "      <td>Product Manager</td>\n",
       "      <td>5</td>\n",
       "      <td>Senior</td>\n",
       "      <td>NaN</td>\n",
       "      <td>60000.0</td>\n",
       "      <td>0</td>\n",
       "      <td>101-1000</td>\n",
       "      <td>60000.0</td>\n",
       "    </tr>\n",
       "    <tr>\n",
       "      <th>622</th>\n",
       "      <td>NaN</td>\n",
       "      <td>Male</td>\n",
       "      <td>Machine Learning Engineer</td>\n",
       "      <td>6</td>\n",
       "      <td>Senior</td>\n",
       "      <td>Python</td>\n",
       "      <td>102000.0</td>\n",
       "      <td>15000</td>\n",
=======
       "      <th>687</th>\n",
       "      <td>21.0</td>\n",
       "      <td>Male</td>\n",
       "      <td>Data Scientist</td>\n",
       "      <td>4</td>\n",
       "      <td>Middle</td>\n",
       "      <td>Python</td>\n",
       "      <td>28300.0</td>\n",
       "      <td>0</td>\n",
       "      <td>100-1000</td>\n",
       "    </tr>\n",
       "    <tr>\n",
       "      <th>977</th>\n",
       "      <td>30.0</td>\n",
       "      <td>Male</td>\n",
       "      <td>ML Engineer</td>\n",
       "      <td>6</td>\n",
       "      <td>Middle</td>\n",
       "      <td>Python ,SQL, AWS, Docker</td>\n",
       "      <td>59000.0</td>\n",
       "      <td>0</td>\n",
       "      <td>51-100</td>\n",
       "    </tr>\n",
       "    <tr>\n",
       "      <th>892</th>\n",
       "      <td>35.0</td>\n",
       "      <td>Male</td>\n",
       "      <td>Data Scientist</td>\n",
       "      <td>15</td>\n",
       "      <td>Middle</td>\n",
       "      <td>C++ ,Python</td>\n",
       "      <td>60000.0</td>\n",
       "      <td>0</td>\n",
       "      <td>101-1000</td>\n",
       "    </tr>\n",
       "    <tr>\n",
       "      <th>1000</th>\n",
       "      <td>39.0</td>\n",
       "      <td>Male</td>\n",
       "      <td>Software Engineer</td>\n",
       "      <td>12</td>\n",
       "      <td>Lead</td>\n",
       "      <td>Javascript ,Python, Javascript / Typescript, S...</td>\n",
       "      <td>82000.0</td>\n",
       "      <td>2000</td>\n",
>>>>>>> b33b10b77d45e805feac824d85b8a57d3a31485a
       "      <td>1000+</td>\n",
       "      <td>117000.0</td>\n",
       "    </tr>\n",
       "  </tbody>\n",
       "</table>\n",
       "</div>"
      ],
      "text/plain": [
<<<<<<< HEAD
       "       Age  Gender                  Position  Total years of experience  \\\n",
       "146   38.0    Male          Backend Developer                         6   \n",
       "935   29.0    Male             Data Scientist                         6   \n",
       "825   28.0    Male              Data Engineer                         7   \n",
       "1170  35.0  Female            Product Manager                         5   \n",
       "622    NaN    Male  Machine Learning Engineer                         6   \n",
       "\n",
       "     Seniority level        Your main technology / programming language  \\\n",
       "146           Senior                                               Java   \n",
       "935           Middle            Python  ,SQL, AWS, Google Cloud, Docker   \n",
       "825           Senior  Python ,Python, SQL, AWS, Google Cloud, Kubern...   \n",
       "1170          Senior                                                NaN   \n",
       "622           Senior                                             Python   \n",
       "\n",
       "      Yearly brutto salary (without bonus and stocks) in EUR  \\\n",
       "146                                             66000.0        \n",
       "935                                             57000.0        \n",
       "825                                             90000.0        \n",
       "1170                                            60000.0        \n",
       "622                                            102000.0        \n",
       "\n",
       "     Yearly bonus + stocks in EUR Company size  Total compensation  \n",
       "146                             0        1000+             66000.0  \n",
       "935                             0     up to 10             57000.0  \n",
       "825                             0     101-1000             90000.0  \n",
       "1170                            0     101-1000             60000.0  \n",
       "622                         15000        1000+            117000.0  "
      ]
     },
     "execution_count": 12,
=======
       "       Age Gender          Position  Total years of experience  \\\n",
       "1020  32.0   Male     Data Scientist                         3   \n",
       "687   21.0   Male     Data Scientist                         4   \n",
       "977   30.0   Male        ML Engineer                         6   \n",
       "892   35.0   Male     Data Scientist                        15   \n",
       "1000  39.0   Male  Software Engineer                        12   \n",
       "\n",
       "     Seniority level        Your main technology / programming language  \\\n",
       "1020          Senior                  Python ,R, SQL, AWS, Google Cloud   \n",
       "687           Middle                                             Python   \n",
       "977           Middle                           Python ,SQL, AWS, Docker   \n",
       "892           Middle                                        C++ ,Python   \n",
       "1000            Lead  Javascript ,Python, Javascript / Typescript, S...   \n",
       "\n",
       "      Yearly brutto salary (without bonus and stocks) in EUR  \\\n",
       "1020                                            62000.0        \n",
       "687                                             28300.0        \n",
       "977                                             59000.0        \n",
       "892                                             60000.0        \n",
       "1000                                            82000.0        \n",
       "\n",
       "     Yearly bonus + stocks in EUR Company size  \n",
       "1020                         3000        1000+  \n",
       "687                             0     100-1000  \n",
       "977                             0       51-100  \n",
       "892                             0     101-1000  \n",
       "1000                         2000        1000+  "
      ]
     },
     "execution_count": 51,
>>>>>>> b33b10b77d45e805feac824d85b8a57d3a31485a
     "metadata": {},
     "output_type": "execute_result"
    }
   ],
   "source": [
    "# # replace nan values with 0, so that we can sum Salary and bonus \n",
    "df['Yearly brutto salary (without bonus and stocks) in EUR'] = df['Yearly brutto salary (without bonus and stocks) in EUR'].fillna(0)\n",
    "df['Yearly bonus + stocks in EUR'] = df['Yearly bonus + stocks in EUR'].fillna(0)\n",
    "\n",
    "\n",
    "# Cleaning up bonus + stock column\n",
    "indexNames = df[ (df['Yearly bonus + stocks in EUR'] == \"bvg only\") | (df['Yearly bonus + stocks in EUR'] == \"depends\") | (df['Yearly bonus + stocks in EUR'] == \"-\")| (df['Yearly bonus + stocks in EUR'] == \"Not sure\")].index\n",
    "# Delete these row indexes from dataFrame\n",
    "df.drop(indexNames , inplace=True)\n",
    "\n",
    "df[\"Yearly bonus + stocks in EUR\"].replace({\"15000+-\": 15000}, inplace=True)\n",
    "\n",
    "#drop any rows that have 7 or 11 in the rebounds column\n",
    "# df = df[df['Yearly bonus + stocks in EUR'].rebounds.isin(values) == False]\n",
    "\n",
    "\n",
    "df['Total compensation'] = df['Yearly brutto salary (without bonus and stocks) in EUR'].astype(float) + df['Yearly bonus + stocks in EUR'].astype(float)\n",
    "\n",
    "\n",
    "df.sample(5)"
   ]
  },
  {
   "cell_type": "code",
<<<<<<< HEAD
   "execution_count": 13,
   "id": "b7c45d12",
=======
   "execution_count": 67,
   "id": "d99c06f6",
   "metadata": {},
   "outputs": [
    {
     "data": {
      "text/html": [
       "<div>\n",
       "<style scoped>\n",
       "    .dataframe tbody tr th:only-of-type {\n",
       "        vertical-align: middle;\n",
       "    }\n",
       "\n",
       "    .dataframe tbody tr th {\n",
       "        vertical-align: top;\n",
       "    }\n",
       "\n",
       "    .dataframe thead th {\n",
       "        text-align: right;\n",
       "    }\n",
       "</style>\n",
       "<table border=\"1\" class=\"dataframe\">\n",
       "  <thead>\n",
       "    <tr style=\"text-align: right;\">\n",
       "      <th></th>\n",
       "      <th>Age</th>\n",
       "      <th>Yearly brutto salary (without bonus and stocks) in EUR</th>\n",
       "    </tr>\n",
       "  </thead>\n",
       "  <tbody>\n",
       "    <tr>\n",
       "      <th>count</th>\n",
       "      <td>2052.000000</td>\n",
       "      <td>2.180000e+03</td>\n",
       "    </tr>\n",
       "    <tr>\n",
       "      <th>mean</th>\n",
       "      <td>32.458090</td>\n",
       "      <td>3.012335e+05</td>\n",
       "    </tr>\n",
       "    <tr>\n",
       "      <th>std</th>\n",
       "      <td>5.387265</td>\n",
       "      <td>1.070732e+07</td>\n",
       "    </tr>\n",
       "    <tr>\n",
       "      <th>min</th>\n",
       "      <td>20.000000</td>\n",
       "      <td>6.000000e+03</td>\n",
       "    </tr>\n",
       "    <tr>\n",
       "      <th>25%</th>\n",
       "      <td>29.000000</td>\n",
       "      <td>6.000000e+04</td>\n",
       "    </tr>\n",
       "    <tr>\n",
       "      <th>50%</th>\n",
       "      <td>32.000000</td>\n",
       "      <td>7.000000e+04</td>\n",
       "    </tr>\n",
       "    <tr>\n",
       "      <th>75%</th>\n",
       "      <td>35.000000</td>\n",
       "      <td>8.000000e+04</td>\n",
       "    </tr>\n",
       "    <tr>\n",
       "      <th>max</th>\n",
       "      <td>66.000000</td>\n",
       "      <td>5.000000e+08</td>\n",
       "    </tr>\n",
       "  </tbody>\n",
       "</table>\n",
       "</div>"
      ],
      "text/plain": [
       "               Age  Yearly brutto salary (without bonus and stocks) in EUR\n",
       "count  2052.000000                                       2.180000e+03     \n",
       "mean     32.458090                                       3.012335e+05     \n",
       "std       5.387265                                       1.070732e+07     \n",
       "min      20.000000                                       6.000000e+03     \n",
       "25%      29.000000                                       6.000000e+04     \n",
       "50%      32.000000                                       7.000000e+04     \n",
       "75%      35.000000                                       8.000000e+04     \n",
       "max      66.000000                                       5.000000e+08     "
      ]
     },
     "execution_count": 67,
     "metadata": {},
     "output_type": "execute_result"
    }
   ],
   "source": [
    "df.describe()"
   ]
  },
  {
   "cell_type": "code",
   "execution_count": 68,
   "id": "0b83414d",
   "metadata": {},
   "outputs": [
    {
     "name": "stdout",
     "output_type": "stream",
     "text": [
      "<class 'pandas.core.frame.DataFrame'>\n",
      "Int64Index: 2181 entries, 0 to 990\n",
      "Data columns (total 9 columns):\n",
      " #   Column                                                  Non-Null Count  Dtype  \n",
      "---  ------                                                  --------------  -----  \n",
      " 0   Age                                                     2052 non-null   float64\n",
      " 1   Gender                                                  2175 non-null   object \n",
      " 2   Position                                                2178 non-null   object \n",
      " 3   Total years of experience                               2170 non-null   object \n",
      " 4   Seniority level                                         2160 non-null   object \n",
      " 5   Your main technology / programming language             1967 non-null   object \n",
      " 6   Yearly brutto salary (without bonus and stocks) in EUR  2180 non-null   float64\n",
      " 7   Yearly bonus + stocks in EUR                            1789 non-null   object \n",
      " 8   Company size                                            2161 non-null   object \n",
      "dtypes: float64(2), object(7)\n",
      "memory usage: 170.4+ KB\n"
     ]
    }
   ],
   "source": [
    "df.info()"
   ]
  },
  {
   "cell_type": "code",
   "execution_count": null,
   "id": "9202b887",
>>>>>>> b33b10b77d45e805feac824d85b8a57d3a31485a
   "metadata": {},
   "outputs": [
    {
     "data": {
      "text/plain": [
       "Gender\n",
       "Diverse    1.620000e+05\n",
       "Female     1.668213e+07\n",
       "Male       8.619587e+04\n",
       "Name: Total compensation, dtype: float64"
      ]
     },
     "execution_count": 13,
     "metadata": {},
     "output_type": "execute_result"
    }
   ],
   "source": [
    "\n",
    "df.groupby('Gender')['Total compensation'].mean()"
   ]
  },
  {
   "cell_type": "code",
   "execution_count": 14,
   "id": "635c64e0",
   "metadata": {},
   "outputs": [
    {
     "data": {
      "text/plain": [
       "Age                                                       128\n",
       "Gender                                                      6\n",
       "Position                                                    3\n",
       "Total years of experience                                  11\n",
       "Seniority level                                            21\n",
       "Your main technology / programming language               214\n",
       "Yearly brutto salary (without bonus and stocks) in EUR      0\n",
       "Yearly bonus + stocks in EUR                                0\n",
       "Company size                                               20\n",
       "Total compensation                                          0\n",
       "dtype: int64"
      ]
     },
     "execution_count": 14,
     "metadata": {},
     "output_type": "execute_result"
    }
   ],
   "source": [
    "df.isnull().sum()"
   ]
  },
  {
   "cell_type": "code",
   "execution_count": 15,
   "id": "01e95673",
   "metadata": {
    "scrolled": true
   },
   "outputs": [
    {
     "data": {
      "text/html": [
       "<div>\n",
       "<style scoped>\n",
       "    .dataframe tbody tr th:only-of-type {\n",
       "        vertical-align: middle;\n",
       "    }\n",
       "\n",
       "    .dataframe tbody tr th {\n",
       "        vertical-align: top;\n",
       "    }\n",
       "\n",
       "    .dataframe thead th {\n",
       "        text-align: right;\n",
       "    }\n",
       "</style>\n",
       "<table border=\"1\" class=\"dataframe\">\n",
       "  <thead>\n",
       "    <tr style=\"text-align: right;\">\n",
       "      <th></th>\n",
       "      <th>Age</th>\n",
       "      <th>Yearly brutto salary (without bonus and stocks) in EUR</th>\n",
       "      <th>Total compensation</th>\n",
       "    </tr>\n",
       "  </thead>\n",
       "  <tbody>\n",
       "    <tr>\n",
       "      <th>count</th>\n",
       "      <td>1811.000000</td>\n",
       "      <td>1811.000000</td>\n",
       "      <td>1811.000000</td>\n",
       "    </tr>\n",
       "    <tr>\n",
       "      <th>mean</th>\n",
       "      <td>32.462176</td>\n",
       "      <td>71531.756488</td>\n",
       "      <td>81722.562192</td>\n",
       "    </tr>\n",
       "    <tr>\n",
       "      <th>std</th>\n",
       "      <td>5.396139</td>\n",
       "      <td>28885.069887</td>\n",
       "      <td>44389.152849</td>\n",
       "    </tr>\n",
       "    <tr>\n",
       "      <th>min</th>\n",
       "      <td>20.000000</td>\n",
       "      <td>6000.000000</td>\n",
       "      <td>6000.000000</td>\n",
       "    </tr>\n",
       "    <tr>\n",
       "      <th>25%</th>\n",
       "      <td>29.000000</td>\n",
       "      <td>60000.000000</td>\n",
       "      <td>61900.000000</td>\n",
       "    </tr>\n",
       "    <tr>\n",
       "      <th>50%</th>\n",
       "      <td>32.000000</td>\n",
       "      <td>70000.000000</td>\n",
       "      <td>72000.000000</td>\n",
       "    </tr>\n",
       "    <tr>\n",
       "      <th>75%</th>\n",
       "      <td>35.000000</td>\n",
       "      <td>80000.000000</td>\n",
       "      <td>89000.000000</td>\n",
       "    </tr>\n",
       "    <tr>\n",
       "      <th>max</th>\n",
       "      <td>66.000000</td>\n",
       "      <td>850000.000000</td>\n",
       "      <td>945000.000000</td>\n",
       "    </tr>\n",
       "  </tbody>\n",
       "</table>\n",
       "</div>"
      ],
      "text/plain": [
       "               Age  Yearly brutto salary (without bonus and stocks) in EUR  \\\n",
       "count  1811.000000                                        1811.000000        \n",
       "mean     32.462176                                       71531.756488        \n",
       "std       5.396139                                       28885.069887        \n",
       "min      20.000000                                        6000.000000        \n",
       "25%      29.000000                                       60000.000000        \n",
       "50%      32.000000                                       70000.000000        \n",
       "75%      35.000000                                       80000.000000        \n",
       "max      66.000000                                      850000.000000        \n",
       "\n",
       "       Total compensation  \n",
       "count         1811.000000  \n",
       "mean         81722.562192  \n",
       "std          44389.152849  \n",
       "min           6000.000000  \n",
       "25%          61900.000000  \n",
       "50%          72000.000000  \n",
       "75%          89000.000000  \n",
       "max         945000.000000  "
      ]
     },
     "execution_count": 15,
     "metadata": {},
     "output_type": "execute_result"
    }
   ],
   "source": [
    "# converting years of experience to float \n",
    "\n",
    "df[\"Total years of experience\"].replace({\"1,5\": 1.5,\"1 (as QA Engineer) / 11 in total\": 11,\"2,5\":2.5, \"15, thereof 8 as CTO\": 15, \"6 (not as a data scientist, but as a lab scientist)\": 6 }, inplace=True)\n",
    "\n",
    "df = df[df['Total years of experience'].notna()]\n",
    "\n",
    "# dropping rows with NAN company size: \n",
    "df = df[df['Company size'].notna()]\n",
    "\n",
    "# dropping rows with NAN Gender:\n",
    "df = df[df['Gender'].notna()]\n",
    "\n",
    "# dropping rows with NAN Position :\n",
    "df = df[df['Position '].notna()]\n",
    "\n",
    "# dropping rows with NAN Position :\n",
    "df = df[df['Age'].notna()]\n",
    "\n",
    "# dropping rows with main technology/ programming:\n",
    "df = df[df['Your main technology / programming language'].notna()]\n",
    "\n",
    "# dropping rows with seniority:\n",
    "df = df[df['Seniority level'].notna()]\n",
    "\n",
    "\n",
    "df.describe()"
   ]
  },
  {
   "cell_type": "code",
   "execution_count": 16,
   "id": "76a891f4",
   "metadata": {
    "scrolled": true
   },
   "outputs": [
    {
     "data": {
      "text/plain": [
       "Age                                                       0\n",
       "Gender                                                    0\n",
       "Position                                                  0\n",
       "Total years of experience                                 0\n",
       "Seniority level                                           0\n",
       "Your main technology / programming language               0\n",
       "Yearly brutto salary (without bonus and stocks) in EUR    0\n",
       "Yearly bonus + stocks in EUR                              0\n",
       "Company size                                              0\n",
       "Total compensation                                        0\n",
       "dtype: int64"
      ]
     },
     "execution_count": 16,
     "metadata": {},
     "output_type": "execute_result"
    }
   ],
   "source": [
    "df.isnull().sum()"
   ]
  },
  {
   "cell_type": "code",
   "execution_count": 17,
   "id": "4da61c47",
   "metadata": {
    "scrolled": false
   },
   "outputs": [
    {
     "name": "stdout",
     "output_type": "stream",
     "text": [
      "After cleaning data: number of rows: 1811\n",
      "After cleaning data: number of columns: 10\n"
     ]
    }
   ],
   "source": [
    "print(\"After cleaning data: number of rows:\", df.shape[0])\n",
    "print(\"After cleaning data: number of columns:\", df.shape[1])"
   ]
  },
  {
   "cell_type": "code",
   "execution_count": 18,
   "id": "12273081",
   "metadata": {},
   "outputs": [
    {
     "data": {
      "text/plain": [
       "Gender\n",
       "Diverse    162000.000000\n",
       "Female      65687.621951\n",
       "Male        84143.573340\n",
       "Name: Total compensation, dtype: float64"
      ]
     },
     "execution_count": 18,
     "metadata": {},
     "output_type": "execute_result"
    }
   ],
   "source": [
    "df.groupby('Gender')['Total compensation'].mean()"
   ]
  },
  {
   "cell_type": "code",
   "execution_count": 38,
   "id": "530e532b",
   "metadata": {},
   "outputs": [
    {
     "data": {
      "text/plain": [
       "<AxesSubplot:title={'center':'Total compensation'}, xlabel='Gender'>"
      ]
     },
     "execution_count": 38,
     "metadata": {},
     "output_type": "execute_result"
    },
    {
     "data": {
      "image/png": "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\n",
      "text/plain": [
       "<Figure size 432x288 with 1 Axes>"
      ]
     },
     "metadata": {
      "needs_background": "light"
     },
     "output_type": "display_data"
    }
   ],
   "source": [
    "# grouped = df['Total compensation'].groupby(axis=1, level='Gender').T\n",
    "# grouped.boxplot()\n",
    "\n",
    "# fig, ax = plt.subplots(2, 3)\n",
    "\n",
    "# ax.boxplot(column='Total compensation',by='Gender')\n",
    "# plt.show()\n",
    "# plt.figure(figsize=(80,30))\n",
    "df.boxplot(column='Total compensation',by='Gender', widths=(0.8, 0.8, 0.8))"
   ]
  },
  {
   "cell_type": "markdown",
   "id": "e4d3bf2a",
   "metadata": {},
   "source": [
    "# Statistical Information"
   ]
  },
  {
   "cell_type": "code",
   "execution_count": 39,
   "id": "53dd4b22",
   "metadata": {
    "scrolled": true
   },
   "outputs": [
    {
     "name": "stdout",
     "output_type": "stream",
     "text": [
      "No. of rows in the dataset: 1811\n",
      "No. of columns in the dataset: 10\n"
     ]
    }
   ],
   "source": [
    "# Lets look at the shape of the dataset\n",
    "\n",
    "print(\"No. of rows in the dataset:\",df.shape[0])\n",
    "print(\"No. of columns in the dataset:\",df.shape[1])"
   ]
  },
  {
   "cell_type": "markdown",
   "id": "42d952b1",
   "metadata": {},
   "source": [
    "<b> Identifying the null values in each column <b>\n",
    "   "
   ]
  },
  {
   "cell_type": "code",
   "execution_count": 40,
   "id": "3c6aba3c",
   "metadata": {},
   "outputs": [
    {
     "name": "stdout",
     "output_type": "stream",
     "text": [
      "<class 'pandas.core.frame.DataFrame'>\n",
      "Int64Index: 1811 entries, 0 to 990\n",
      "Data columns (total 10 columns):\n",
      " #   Column                                                  Non-Null Count  Dtype  \n",
      "---  ------                                                  --------------  -----  \n",
      " 0   Age                                                     1811 non-null   float64\n",
      " 1   Gender                                                  1811 non-null   object \n",
      " 2   Position                                                1811 non-null   object \n",
      " 3   Total years of experience                               1811 non-null   object \n",
      " 4   Seniority level                                         1811 non-null   object \n",
      " 5   Your main technology / programming language             1811 non-null   object \n",
      " 6   Yearly brutto salary (without bonus and stocks) in EUR  1811 non-null   float64\n",
      " 7   Yearly bonus + stocks in EUR                            1811 non-null   object \n",
      " 8   Company size                                            1811 non-null   object \n",
      " 9   Total compensation                                      1811 non-null   float64\n",
      "dtypes: float64(3), object(7)\n",
      "memory usage: 155.6+ KB\n"
     ]
    }
   ],
   "source": [
    "df.info()"
   ]
  },
  {
   "cell_type": "code",
   "execution_count": 41,
   "id": "61278f30",
   "metadata": {
    "scrolled": true
   },
   "outputs": [
    {
     "data": {
      "text/plain": [
       "Age                                                       0\n",
       "Gender                                                    0\n",
       "Position                                                  0\n",
       "Total years of experience                                 0\n",
       "Seniority level                                           0\n",
       "Your main technology / programming language               0\n",
       "Yearly brutto salary (without bonus and stocks) in EUR    0\n",
       "Yearly bonus + stocks in EUR                              0\n",
       "Company size                                              0\n",
       "Total compensation                                        0\n",
       "dtype: int64"
      ]
     },
     "execution_count": 41,
     "metadata": {},
     "output_type": "execute_result"
    }
   ],
   "source": [
    "df.isnull().sum()"
   ]
  },
  {
   "cell_type": "markdown",
   "id": "5f157d2b",
   "metadata": {},
   "source": [
    "<b> summary of numerical information <b>"
   ]
  },
  {
   "cell_type": "code",
   "execution_count": 42,
   "id": "15e915d7",
   "metadata": {
    "scrolled": true
   },
   "outputs": [
    {
     "data": {
      "text/html": [
       "<div>\n",
       "<style scoped>\n",
       "    .dataframe tbody tr th:only-of-type {\n",
       "        vertical-align: middle;\n",
       "    }\n",
       "\n",
       "    .dataframe tbody tr th {\n",
       "        vertical-align: top;\n",
       "    }\n",
       "\n",
       "    .dataframe thead th {\n",
       "        text-align: right;\n",
       "    }\n",
       "</style>\n",
       "<table border=\"1\" class=\"dataframe\">\n",
       "  <thead>\n",
       "    <tr style=\"text-align: right;\">\n",
       "      <th></th>\n",
       "      <th>Age</th>\n",
       "      <th>Yearly brutto salary (without bonus and stocks) in EUR</th>\n",
       "      <th>Total compensation</th>\n",
       "    </tr>\n",
       "  </thead>\n",
       "  <tbody>\n",
       "    <tr>\n",
       "      <th>count</th>\n",
       "      <td>1811.000000</td>\n",
       "      <td>1811.000000</td>\n",
       "      <td>1811.000000</td>\n",
       "    </tr>\n",
       "    <tr>\n",
       "      <th>mean</th>\n",
       "      <td>32.462176</td>\n",
       "      <td>71531.756488</td>\n",
       "      <td>81722.562192</td>\n",
       "    </tr>\n",
       "    <tr>\n",
       "      <th>std</th>\n",
       "      <td>5.396139</td>\n",
       "      <td>28885.069887</td>\n",
       "      <td>44389.152849</td>\n",
       "    </tr>\n",
       "    <tr>\n",
       "      <th>min</th>\n",
       "      <td>20.000000</td>\n",
       "      <td>6000.000000</td>\n",
       "      <td>6000.000000</td>\n",
       "    </tr>\n",
       "    <tr>\n",
       "      <th>25%</th>\n",
       "      <td>29.000000</td>\n",
       "      <td>60000.000000</td>\n",
       "      <td>61900.000000</td>\n",
       "    </tr>\n",
       "    <tr>\n",
       "      <th>50%</th>\n",
       "      <td>32.000000</td>\n",
       "      <td>70000.000000</td>\n",
       "      <td>72000.000000</td>\n",
       "    </tr>\n",
       "    <tr>\n",
       "      <th>75%</th>\n",
       "      <td>35.000000</td>\n",
       "      <td>80000.000000</td>\n",
       "      <td>89000.000000</td>\n",
       "    </tr>\n",
       "    <tr>\n",
       "      <th>max</th>\n",
       "      <td>66.000000</td>\n",
       "      <td>850000.000000</td>\n",
       "      <td>945000.000000</td>\n",
       "    </tr>\n",
       "  </tbody>\n",
       "</table>\n",
       "</div>"
      ],
      "text/plain": [
       "               Age  Yearly brutto salary (without bonus and stocks) in EUR  \\\n",
       "count  1811.000000                                        1811.000000        \n",
       "mean     32.462176                                       71531.756488        \n",
       "std       5.396139                                       28885.069887        \n",
       "min      20.000000                                        6000.000000        \n",
       "25%      29.000000                                       60000.000000        \n",
       "50%      32.000000                                       70000.000000        \n",
       "75%      35.000000                                       80000.000000        \n",
       "max      66.000000                                      850000.000000        \n",
       "\n",
       "       Total compensation  \n",
       "count         1811.000000  \n",
       "mean         81722.562192  \n",
       "std          44389.152849  \n",
       "min           6000.000000  \n",
       "25%          61900.000000  \n",
       "50%          72000.000000  \n",
       "75%          89000.000000  \n",
       "max         945000.000000  "
      ]
     },
     "execution_count": 42,
     "metadata": {},
     "output_type": "execute_result"
    }
   ],
   "source": [
    "df.describe()"
   ]
  },
  {
   "cell_type": "markdown",
   "id": "f635df11",
   "metadata": {},
   "source": [
    "# Visualization"
   ]
  },
  {
   "cell_type": "code",
   "execution_count": 44,
   "id": "6f9b894b",
   "metadata": {},
   "outputs": [],
   "source": [
    "df['Total compensation (Thousands)'] = df['Total compensation']/1000"
   ]
  },
  {
   "cell_type": "code",
   "execution_count": 47,
   "id": "8e54019d",
   "metadata": {},
   "outputs": [
    {
     "data": {
      "text/plain": [
       "<Figure size 576x360 with 0 Axes>"
      ]
     },
     "metadata": {},
     "output_type": "display_data"
    },
    {
     "data": {
      "image/png": "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\n",
      "text/plain": [
       "<Figure size 360x360 with 1 Axes>"
      ]
     },
     "metadata": {
      "needs_background": "light"
     },
     "output_type": "display_data"
    }
   ],
   "source": [
    "plt.figure(figsize=(8,5))\n",
    "a = sns.displot(df['Total compensation (Thousands)'],color=\"darkcyan\")\n",
    "plt.title('\\n Salary Column\\n', size=16, color='black')\n",
    "plt.xlabel('\\n Salary \\n', fontsize=13, color='black')\n",
    "plt.ylabel('\\n Count\\n', fontsize=13, color='black')\n",
    "plt.xticks(fontsize=13)\n",
    "plt.yticks(fontsize=12)\n",
    "plt.show()"
   ]
  },
  {
   "cell_type": "code",
   "execution_count": 48,
   "id": "8c27b9bf",
   "metadata": {},
   "outputs": [
    {
     "data": {
      "text/plain": [
       "count    1811.000000\n",
       "mean       81.722562\n",
       "std        44.389153\n",
       "min         6.000000\n",
       "25%        61.900000\n",
       "50%        72.000000\n",
       "75%        89.000000\n",
       "max       945.000000\n",
       "Name: Total compensation (Thousands), dtype: float64"
      ]
     },
     "execution_count": 48,
     "metadata": {},
     "output_type": "execute_result"
    }
   ],
   "source": [
    "# check for anomaly\n",
    "df['Total compensation (Thousands)'].describe()"
   ]
  },
  {
   "cell_type": "markdown",
   "id": "7c6310f7",
   "metadata": {},
   "source": [
    "<b> boxplot for salary column <b>\n",
    "    "
   ]
  },
  {
   "cell_type": "code",
   "execution_count": 49,
   "id": "c807ad46",
   "metadata": {
    "scrolled": true
   },
   "outputs": [
    {
     "name": "stderr",
     "output_type": "stream",
     "text": [
      "/Users/leosiah/opt/anaconda3/lib/python3.9/site-packages/seaborn/_decorators.py:36: FutureWarning: Pass the following variable as a keyword arg: x. From version 0.12, the only valid positional argument will be `data`, and passing other arguments without an explicit keyword will result in an error or misinterpretation.\n",
      "  warnings.warn(\n"
     ]
    },
    {
     "data": {
      "image/png": "iVBORw0KGgoAAAANSUhEUgAAAdAAAAGWCAYAAADIXNJxAAAAOXRFWHRTb2Z0d2FyZQBNYXRwbG90bGliIHZlcnNpb24zLjQuMywgaHR0cHM6Ly9tYXRwbG90bGliLm9yZy/MnkTPAAAACXBIWXMAAAsTAAALEwEAmpwYAAAhu0lEQVR4nO3de7gdVWH38e+PBAyGQIIBKaCJAsYqVWoBtVBIC6jVWhtsX6nFgCD4KhBarVqtUCoWqfhqFaTgBQFt1apEq1VU0ESbVi3SF8QClmiC3MotgRACIWH1j5l92Nk5t6zknJ3L9/M88xz3zJqZtdcM+7fXmrVjSilIkqQNs12/KyBJ0pbIAJUkqYIBKklSBQNUkqQKBqgkSRUMUEmSKhigkiRVMEAlSapggEqSVMEAlSSpggEqSVIFA1SSpAoGqCRJFQxQSZIqGKCSJFUwQCVJqmCASpJUwQCVJKmCASpJUgUDVJKkCgaoJEkVDFBJkioYoJIkVTBAJUmqYIBuI5LMTlJ6lruSfD3Jwf2u32CSHJDkS0luTfJokjuTfDfJvIpjdd7/7E1f03pJXpzkn5LckWR1kvuSfDvJcUkmbOCxLk2yZIyqOmaSLOi5L1cluSnJGUmeNM51WdJVj8eT/DLJF5M8u6vM8e32mRt47JlJzkryzE1ecfWFAbrtmQe8GPhN4DRgd+CqJM/oa616JDkI+AEwHXg78FLgbcDNwJw+Vm2TSfKnwCJgV+AdwJHACcDPgL8Hfq9vlRt/19Pcly8GXgF8Dvgr4AN9qMs323ocCpwJHAx8P8nuG3ncmTTvyQDdSkzsdwU07m4spfyg8yLJfwL/DbyM5kN7c3EasBx4SSnl0a71n0nS1y9+SQJsX0pZvRHHOAz4IHBBKaW3R/2VJB8EJm9ENbc0K7rvS+A7SfYF/g/NvTCe7u2qy78l+TmwADiW5ppJgD1QwYPt3+07K5LsluTiJD9L8nA7jPWPSfbq3jHJs5LMT3J3kkfaodYvJJnYVWZ6kr9Pcns7DHtTkpNHUa9dgWU94QlAKeXxnnr8dZJrkzyQ5N4k30nyopFOkOQl7RD2ne37vCHJW3uHTtthvc8kOSHJTcBqYE6Se5J8aJDjdob4nt27rctfAPfT9K7XU0pZXEq5vuuYBye5KslDSVYmuXqkofehhq0HG4Lseo+vS3JzO4z6/ST7JZnc3g/3JfmfJP+v5xp3zvP7SS5or8E97fGmDlfHETxI133Znmv7JO9t67u6/fveJNu323+lvR/n9+x3clvHV1TU4z/av/sOVWAU9ZoNfLct/u2uYeLZFfXRZsIe6LZnu/bDL8DewDnAw8BXu8rsCjwCvBO4B9gTeCuwKMmzSymPtOW+RtNLfBNwL7AX8HLaL2ZJdqYZotwROAv4Bc1Q7N8neVIp5fxh6vkj4BVJLgIuAa4tpawZouxewIeA22h6bccC30tyYHcIDeKZwNXA+e37PbCt5240Adftt4EDgL8G7gaWAJ8C3pDknV1tAvBGYGEp5abBTtoG9Gzgyz37DSrJ84CFwH8BxwOlrd/CJC8qpVw30jFG6TBgH5rh5B2AvwO+BPwcuAU4pi3zbmAxcGHP/h+muSdeC8wC3g+sBY4bzcm7QvnJ7Xn+BPjHnmKX0fRKzwH+lWao9d001/K1pZQ7k7we+FqS/1tKuSjJr9LcH+eXUv5lNHXp0Xm8sXyYMsPWC7gWOAX4KM1jlE4o/1dFfbS5KKW4bAMLzQd2GWRZDrx8hH0nAE9ry89p101vX//+MPudQRNM+/Ws/zhN4E4cZt8dgfld9XwY+BZwEjBhhLpOpHlW+uFB3v/sIfZLu99fAsuA7bq2LWnPv0fPPs+gCYjXda17XnueY4ap41PbMu8b5bX7Ynudpnat25mmB3tF17pLgSUjvWeeCOGZPe/xfmCXrnXz2nKf6Nn/WuC7g5znsp5yF7TXPyO8vwVD3Jv/DEzqKrd/u/6snv3f3a5/Xte6D7fX7DeA69pl0nD16GqHf2jvhR3acy5qr/MLBmu/0darq52O3JT/bbv0b3EId9tzCnBQu7wcuBL4QpLDuwsleVOS65I8BKwBbm03zWr/3kfTMzk3yUlJ9hvkXC8Dfgj8IsnEzkIzSeMpwHOGqmQpZVUpZQ7wXJrJQ9+g6SF+DPh6knTV9cg0s3Pva+v6GPCsrroOqh3uuzjJUpph2ceA9wJTaSZXdftBKeWunjr+on0vb+xa/UaaXvsVw517Ax0GfK2Usrzr3A/SBMzhQ+1U4d9LKQ90ve70oL/ZU+4mmi9UvXp7dz8BnkTzhWEk1/HEfXkozajGwTT3ZudaH9b+/UzPvp3X3W3xdprJWIuA/YA/LqPo7bdeS3MvPNq+hz2BPyqlXDtE+Q2pl7YiDuFue35WSrmm8yLJlTQzIN8PvLBddxrwEZoJE2+j7ZHRzIqdBFBKKUmOohnyfB/wlCS/AM4rpXQmI+1O89zosSHq8pSRKltK+S/aYa4kk2h6r8fSzNT8WpIXAF+n+ZA/EbiTprfwiU5dB5NmItI/03w4nkUTCquAP6Dphfbue+cQh7oQ+GqS/WmGqI8FLirDTzC6rz3XjGHKdNt1iPPfBUwb5TFGY1nP69XDrB+sbe/ved15fj3kdejyUPd9SfO44D7gn2i+iH2Dph1g/bbofLHpbKeU8miSz9MMqX6lvY9G6xs0s2/XAneUUv5nhPKjrpe2LgboNq4NwhuBV3atPga4upTy1s6KDPIzl1LKz4G5bQ/h+cCpwIVJlpRSvkETFHcDpw9x+ps3sK6PJDmPJqSeQ/O87dU0vc6jSykDQZ1kGsM/s9qHpkf7ulLKQM8hySuHKF+GWP91mmG/N9L0oqbQ9JKHex9rkiwAjmqfBa83UarH/cAeg6zfg/VDq1unx7VDz/oRv7hsJn7a/n0eTah13useNM9g6XoNzf0GQJLn0jxCuAZ4VZJXlVK+Msrz3t8T5iOWH229tHVxCHcb1/bEnksz7NjxZNbvNb5+qGOUxv8H3tKu2r/9eyXwbODWUso1gywrhqnX3kNs6sxs7XzbfzJNT2Eg4JL8DvD0oY7dtR90vc92xuSfjLDfOkozI/hi4HU0XyCuKqUsHn4vAM6lCbLzBtuY5Bnt5CFoJhC9IsmUru1TaL70LBzmHEvbv/v3rH/5KOq3Oei8/8692Xmvx/SU61yz78HASMVnaUYVDqEZTv9kkj3HqJ6jqhdP9Mh3HKN6aJzZA932/Gr7XBOa2aZzaXpz3T+nuBJ4R5J30cyG/R3gD7sP0n64fxj4PM0MzQk0kyvWAN9pi30IeA3Nj9A/RNPjnEwTgr9VSnnVMPW8KMlTgU8DN7THP6it52KaCUaduv4pcGmST9E8+zwDuH2EdriRJmD+JslamiD9sxH2GconaYaBn0/TIx5RKeV7Sd4CfLCdJXopzXPmacARwBtonsVdD5xN848qXJ3kb2m+LLyD5kvAe4Y5x51JFgLvTHIvzWjAsTS9783NlDzx06MdaMKzcx2vACil/DTJZ4Gz2mfp/0Yz2/UM4LPliRnX59G8xxeUUlYnOYlmdODTSY4qPT+D2lgbUK+f0fz3cUKS+2kC9ebhvkhqM9fvWUwu47Mw+Czc+4F/p5lg0V12R5p/VOEeYAXNUOkz6JppSPN88zKaD4WH22MtBF7ac6xpNEH6C5pnZ3cD3wf+dIT6vrQ9/s1tHR6lCc4LgKf2lD2tPf4qmp8HHEkzs3PBIO9/dte6A2h+cvAwzU9g3kMTXIPNUP3MCPX9JnAHw8wsHmK/3wS+QNOjfqxtx2/RBF33TOAXAlcBDwEraX5+c3DPsS6laxZuu25vmp8oLad5JnfOaN8jQ8wabc9z2yjKHd97niHaYEHPfbm6vdYXA3v3lN2eZqLX0ra9lravt2+3/157jDf07Hc4zUjFO0aoy2iu9Xrva6R6dZV7I83kuzW996PLlrekvaiSKrXPW28F/q6Ucka/6yNpfDiEK1VKshvNT2VOp5lP0PsPC0jaijmJSKr3Cprh6IOB40opQ/3URdJWyCFcSZIq2AOVJKmCASpJUgUDVJKkCgaoJEkVDFBJkioYoJIkVTBAJUmqYIBKklTBAJUkqYIBKklSBQNUkqQKBqgkSRUMUEmSKhigkiRVMEAlSapggEqSVMEAlSSpggEqSVIFA1SSpAoTN6Tw9OnTy8yZM8eoKpIkbV5+/OMf31tK2W2wbRsUoDNnzuSaa67ZNLWSJGkzl2TpUNscwpUkqYIBKklSBQNUkqQKBqgkSRUMUEmSKhigkiRVMEAlSapggEqSVMEAlSSpggEqSVIFA1SSpAoGqCRJFQxQSZIqGKCSJFUwQCVJqmCASpJUwQCVJKmCASpJUgUDVJKkCgaoJEkVDFBJkioYoJIkVTBAJUmqYIBKklRhYr8rMFYuv/xyli5dus66u+66C4A99thj0H1mzJjB3Llzx7xukqQt31YboEuXLmXxTTfxlAkTBtatXLMGgOUrVqxX/r61a8etbpKkLd9WG6AAT5kwgVdOmTLw+qttcHav690mSdJo+AxUkqQKBqgkSRUMUEmSKhigkiRVMEAlSapggEqSVMEAlSSpggEqSVIFA1SSpAoGqCRJFQxQSZIqGKCSJFUwQCVJqmCASpJUwQCVJKmCASpJUgUDVJKkCgaoJEkVDFBJkioYoJIkVTBAJUmqYIBKklTBAJUkqYIBKklSBQNUkqQKBqgkSRUMUEmSKhigkiRVMEAlSapggEqSVMEAlSSpggEqSVIFA1SSpAoGqCRJFQxQSZIqGKCSJFUwQCVJqmCASpJUwQCVJKmCASpJUgUDVJKkCgaoJEkVDFBJkioYoJIkVTBAJUmqYIBKklTBAJUkqYIBKklSBQNUkqQKBqgkSRUMUEmSKhigkiRV2CwD9PLLL+fyyy/vdzU22JZab0nShpvY7woMZunSpf2uQpUttd6SpA23WfZAJUna3BmgkiRVMEAlSapggEqSVMEAlSSpggEqSVIFA1SSpAoGqCRJFQxQSZIqGKCSJFUwQCVJqmCASpJUwQCVJKmCASpJUgUDVJKkCgaoJEkVDFBJkioYoJIkVTBAJUmqYIBKklTBAJUkqYIBKklSBQNUkqQKBqgkSRUMUEmSKhigkiRVMEAlSapggEqSVMEAlSSpggEqSVIFA1SSpAoGqCRJFQxQSZIqGKCSJFUwQCVJqmCASpJUwQCVJKmCASpJUgUDVJKkCgaoJEkVDFBJkioYoJIkVTBAJUmqYIBKklTBAJUkqYIBKklSBQNUkqQKBqgkSRUMUEmSKkzs14mXLVvG+eefz7x587j11ls599xzScJrXvMabrzxRp72tKf1q2obZfHixbz2ta8dsdzee+/NbbfdBsCUKVNYsWLFemUmTZrEI488wo477siqVas4/PDDWbhwIdOmTWP58uWUUth9991Zvnw5a9euZe3atcybN49Zs2Zx3nnncccdd7B69Wre9a53ceedd/KpT32KE088kSOOOAKAJUuWcPbZZ3PmmWcyY8aMgWty3HHHcdlllzFv3jymTp06aNmOZcuW8aEPfQiAt7zlLQPlu69vZ91I+wxnuOONpX6dV+rmfTg6491OfeuBzp8/n5tvvpkrrriC888/H4BSCp/73OcAuP322/tVtY2yevXqUZXrhCcwaHgCPPLIIwCsWrUKgIULFwLNTVJKAeDuu+9m9erVrF27FoALL7yQ+fPns2TJkoG6fPjDH+bSSy8F4JJLLhk4/kc/+lFWrVrFBRdcADxxTS644IKBazNU2Y758+dzyy23cMstt6xTvvv69hpqn+EMd7yx1K/zSt28D0dnvNupLwG6bNkyFi5cSCmFBQsWsHLlyvXKPP7449xwww19qF29xYsX97sKrFmzhquuumqddStXrhwI3FIKV199NUuWLBn4knL77bfzk5/8ZOCa3H777ZRS+N73vsfy5cvXK7t06VLgievYsXDhQpYvX77O9e0co2PZsmUsWLBgvX2GM9zxxlK/zit18z4cnX60U1+GcOfPnz/wgb5mzZohy5177rnMmjWr6hxLly6Ftlc2Gg+sXcsDS5dy9tlnV50PRt/77LdLLrmEPffcc511H/nIRwauScfjjz/OFVdcwY033rjO+gsuuIDzzjuP+fPnr3P91qxZM/DNr3OszjFOOOEEoLn2a7uuS2efzvbBdN8vvccbS/06r9TN+3B0+tFOI/ZAk5yc5Jok19xzzz2b5KSLFi0aNjg7Hn/88U1yPq2r08vstnLlyvWuyZo1a1i0aNF6ZTuvFy1atE7ollJYtGjROte3c4yOofYZznDHG0v9Oq/UzftwdPrRTiP2QEspHwM+BnDggQeWEYqPyiGHHMKCBQtGDNHJkydzxhlnVJ3j7LPPZvl///eoy+8yYQJTZ8yoPh8wqslDm4Mk7LnnnusE4+TJk3n00UfXuSYTJ07kkEMO4cYbb1yn7F577QU01/Hqq68eCMQkHHLIIQAD17dzjI7h9hlK9/3Se7yx1K/zSt28D0enH+3Ul2egc+bMIQnQfEgP5fTTTx+vKm0SO+ywQ7+rMConnHACp5xyyjrr5s2bN3BNOrbbbjuOPvro9cqeeuqpQHMdu6/fxIkTOfroo9e5vp1jdMyZM4cJEyast89whjveWOrXeaVu3oej04926kuATps2jcMPP5wkzJ49m8mTJ69XZrvttmP//ffvQ+3q7bPPPv2uAhMnTuTII49cZ93kyZMHbqwkHHHEEcycOXOgJ7nXXnvxa7/2awPXZK+99iIJhx12GFOnTl2vbOdnLJ3r2HH44YczderUda5v5xgd06ZNY/bs2evtM5zhjjeW+nVeqZv34ej0o5369jOWOXPmMGvWLI4++mhOO+00oPlwP+aYY4Anhgm3NKPthe69994D/3vKlCmDlpk0aRIAO+64I8BAWE2bNm0gEHfffXd22GGHgV7dm9/8ZubMmcPMmTMH6nL66adz/PHHA6zzUP2UU05hxx13XKdHOWvWLE499dSBazNU2Y45c+aw7777su+++67X0+w9xkj7DGe4442lfp1X6uZ9ODrj3U7pnXk5nAMPPLBcc801Y1idRmcm7MY8j+w8A31lVzh9tf295SsHCayvrljB1P322+hzwsbVW5K0+Ujy41LKgYNt85/ykySpggEqSVIFA1SSpAoGqCRJFQxQSZIqGKCSJFUwQCVJqmCASpJUwQCVJKmCASpJUgUDVJKkCgaoJEkVDFBJkioYoJIkVTBAJUmqYIBKklTBAJUkqYIBKklSBQNUkqQKBqgkSRUMUEmSKhigkiRVMEAlSapggEqSVMEAlSSpggEqSVIFA1SSpAoGqCRJFQxQSZIqGKCSJFUwQCVJqmCASpJUwQCVJKmCASpJUgUDVJKkCgaoJEkVDFBJkioYoJIkVTBAJUmqYIBKklTBAJUkqYIBKklSBQNUkqQKBqgkSRUMUEmSKhigkiRVMEAlSapggEqSVGFivyswmBkzZvS7ClW21HpLkjbcZhmgc+fO7XcVqmyp9ZYkbTiHcCVJqmCASpJUwQCVJKmCASpJUgUDVJKkCgaoJEkVDFBJkioYoJIkVTBAJUmqYIBKklTBAJUkqYIBKklSBQNUkqQKBqgkSRUMUEmSKhigkiRVMEAlSapggEqSVMEAlSSpggEqSVIFA1SSpAoGqCRJFQxQSZIqGKCSJFUwQCVJqmCASpJUwQCVJKmCASpJUgUDVJKkCgaoJEkVDFBJkioYoJIkVTBAJUmqYIBKklTBAJUkqYIBKklSBQNUkqQKBqgkSRUMUEmSKhigkiRVMEAlSapggEqSVMEAlSSpggEqSVIFA1SSpAoGqCRJFQxQSZIqGKCSJFUwQCVJqmCASpJUwQCVJKmCASpJUoWJ/a7AWLpv7Vq+umLFE6/XrAFYZ1132anjVTFJ0hZvqw3QGTNmrLfukbvuAmDqHnust23qEPtIkjSYrTZA586d2+8qSJK2Yj4DlSSpggEqSVIFA1SSpAoGqCRJFQxQSZIqGKCSJFUwQCVJqmCASpJUwQCVJKmCASpJUgUDVJKkCgaoJEkVDFBJkioYoJIkVTBAJUmqYIBKklTBAJUkqYIBKklSBQNUkqQKBqgkSRUMUEmSKhigkiRVMEAlSapggEqSVMEAlSSpQkopoy+c3AMs3chzTgfu3chjaHC27diwXceObTs2bNdNZ0YpZbfBNmxQgG4KSa4ppRw4rifdRti2Y8N2HTu27diwXceHQ7iSJFUwQCVJqtCPAP1YH865rbBtx4btOnZs27Fhu46DcX8GKknS1sAhXEmSKhigkiRVGLcATTIhyXlJ7kmyIsmXkkwfr/NviZL8bZKfJnkwyR1JPp5k154yc5MsTvJwkh8m+Y2e7Qcm+VG7fXGSY8f3XWz+kmyX5N+SlCR7d623bSslOTLJD5I8lOTeJBd2bbNdKyXZI8nn28/RZUm+k+T5Xdtt2/FUShmXBfhL4GfAM4FdgC8B3xiv82+JC3AO8OvA9sBuwDeAr3RtPxRYCbwEeBLwduB/gJ3b7bsA9wDvaLcfBTwEvLjf721zWoC3AlcBBdjbtt3o9pwNLAf+sG2bScALbNdN0rZXAN8GdgV2AN4P/BKIbduH6zGOF34pcGLX633aD6yZ/W6ELWUBXgE80PX6MuDTXa8D3Aoc175+ffs6XWU+DXyq3+9lc1mAZwGLgQN6AtS2rW/TfwfOHWKb7bpxbXs9cHLX61ntfTvdth3/ZVyGcJPsAjwd+HFnXSllMfAg8LzxqMNW4gia/4A6ns+6bVqA/2zXd7Zf267vuLZr+zYtyXbAJcDbaHpM3WzbCkkmAwcDjyS5th2+XZCk86/i2K4b5zzg1UmmJ5kEnAz8aynlXmzbcTdez0B3bv8+0LN+edc2DSPJq4GTgNO7Vk9h+DYdafu27nTgrlLKFYNss23rTKP5XDkJOB7YE/gW8PUkU7FdN9YiYALNUOxDwNE0bQ227bgbrwBd0f7dpWf9VJpeqIaR5I+AjwO/X0q5tmvTCoZv05G2b7OS7Evz7PPUIYrYtnU6/61/qpRyfSllNfA+muf4v4ntWq0dMbmKZi7JLsCTgb8Bvp/kqdi2425cArSUspxm7P0FnXVJnknzzef6IXYTkOT1wMXAK0sp3+3ZfB3rtmlonuVd17X913v2+fWu7duyQ2kmZt2Q5F6aoSyA65O8Gdu2SinlAWAJzXO59TZju26MXYFnAOeXUh4spawupXyC5nP8Rdi242+8HrbSzMK9meYG2Bn4AnBlvx8Cb84LMA+4DzhoiO2H0gzjHEEzI+/PWXfW3VSaoZ63tduPwFl3nbZ7MrB31/Iimg/4A4GdbNuNatu3AbcBzwEm0swGvZOm92O7blzb3gycD0xu2/YEYDXNrxts2/G+HuN44ScAH6D5/6hbQTMde3q/G2BzXtoP9Mfam3xg6SkzF/g5sAr4EfAbPdsPatevassd2+/3tTkuwEy6ZuHathvVlgHeA9xF84ztu8ABtusmadtfBb7Wfo4+QDNp6FW2bX8W/y1cSZIq+E/5SZJUwQCVJKmCASpJUgUDVJKkCgaoJEkVDFBJkioYoJIkVTBAJUmqYIBKklTBAJUkqYIBKklSBQNUkqQKBqgkSRUMUEmSKhigkiRVMEAlSapggEqSVMEAlSSpggEqSVIFA1SSpAoGqCRJFQxQaQuU5Pgkt/Tx/Gcluapf55c2BwaotlhJLk3yWJKH2uXWJOckGdf7Oo1vJ7msZ/2Tk/wsyV+MZ31GI8kzk3whyV1t2/0yyfwkO/S7btKWwgDVlu6yUspOpZSdgKOA1wNvGM8KlFIKcDzwe0n+sGvTB4E7gfdvyvMl2X4THObrNHWbBUwBXgx8E8gmOPaw2i8cE8f6PNJYM0C11Sil3Az8K7B/Z12S05PclGRF20N9X5IJ7bYk+Zskd7TblyQ5rWvf/ZN8M8m9XfsOGl6llNuBk4GLk+yZ5OXAa4DXAZOSfCDJL5Lcn+TKJPt2neeYJNcleTDJnUkuTjK5a/uSJGcm+W6SlcCru8+d5HeT3NPde0wype1Z/lZvXZM8hSY4LyqlPFAat5VSLiqlPNqWeX6She17X5bkG0n2Garth2vndntpy1wDPAwclGR1kt27yqR9r68b6jzS5sQA1VYjyXOBQ2lCtOM24HeBnYFXASfwRA/1KOA44IWllCnAC4FF7bF2BxYCVwB70vTQjgLeOdT5SylfAr4M/APwSeBNpZRbgU8AzwZeBOwB/BD4WlcYPwC8FpgK/Fa7vLvn8CcBbwF2Ar7Ss+2bwMr2/XX8MfDLUsr3B6nnfcBPgU8kmZvkOUl6e54FOAvYC5gJPAR8Zqj3zvDt3HEizZeKnYBrgR/QtH/HUcAuwBeHOY+0+SiluLhskQtwKfAosJzmA74A/wzsOMw+HwD+qf3fs4F7gZcBk3rK/TnwnZ51rwZuGaFOOwG3dp1jeluvp3eV2Y4mNA8d4hinAj/qer0EOLOnzPHddaEJ3Cu7Xv8QeOsw9ZwOnEMTZKuBu4EzgAxRfv/2fUxuX58FXDWadm5fF2BuT5ljgZu6Xn8eOL/f95WLy2gXe6Da0n26lDK1NM9Ad6MJ1Cs7G5P8cZL/SHJfkgeAU9pylFIWAO+iCZ+72+HaA9tdnwEckmR5ZwEuoelBDqmU8hDwc+D6ruMAXN91nPuB7YGntXU8Ksn322HYB4G/7dSxy5IR2uGTwG8neXqS/YEDgMuGKlxKubeU8q5Sygtoer5vB86keYZMkn2SXJHk9rZOi9pdpw92vOHaeZj38EVgtySHtsPKrwI+PsL7lDYbBqi2GqWUe2lC47AkT0nyNJphx/cCv1JK2QX4KF0TZUopHyulHEoTjNfRDNkCLKXpYU3tWnZpg3pDLG3/7tdzrCeXUj7bPrf8MvA5ml7qzsA7WH8yz+MjvPc7gX/hiUlUX27bY0SllIdLKZfShP4B7eqLgBXA89o6HdKuX2+S0WjaebD3UEp5hOZ6nUjzrPi6Usr1SFsIA1RbjSRTaT6Ib6Pp5e1Ec4/fAzyW5EXt9k75g9rez5Noeq4rgDXt5suBA5OckGRSku3S/PTjZRtSp1LK3cA/Ahcm2atTzyRzkuwE7ABMApaVUlYleQ7NEG6Nj9E8ezyWYXpySaa1k3z2T7J9kolJXk0zTNt5ZrozzXPV5UmmA+8Z5rzDtvMo6vxHwJuGq7O0OTJAtaU7rp1t+hBwC81PMl5eGjcCf0Uz6WY58BfAZ7v2nQJ8hOY56H3AS4BjAEopdwG/DfwBzdDjMmA+8MyKOp4E3AwsSLIC+AlNaJR2yPdNwPvb9/BRmsCt8S2aXt4DwNXDlFsN7E7T276fJvjeDZxWSvlCW+bPaCYzPUgTql8b6mCjaOchlVJuAn5MM1Hrc6PZR9pcpJTS7zpI2kSSLAC+VUo5p991Ga0klwKrSykn97su0obwx8zSViLJYcBBNL3bLUKSZ9HU94X9rou0oQxQaSuQ5D+AfWmGYe/pd31GI8kXgZcC7yul3NDv+kgbyiFcSZIqOIlIkqQKBqgkSRUMUEmSKhigkiRVMEAlSapggEqSVMEAlSSpggEqSVIFA1SSpAoGqCRJFQxQSZIqGKCSJFUwQCVJqmCASpJUwQCVJKmCASpJUgUDVJKkCgaoJEkVDFBJkioYoJIkVTBAJUmq8L+uwikL1O6JdAAAAABJRU5ErkJggg==\n",
      "text/plain": [
       "<Figure size 576x360 with 1 Axes>"
      ]
     },
     "metadata": {
      "needs_background": "light"
     },
     "output_type": "display_data"
    }
   ],
   "source": [
    "#many outliners in the Salary column, mean value not accurate as will be biased due to extreme values\n",
    "plt.figure(figsize=(8,5))\n",
    "sns.boxplot(df['Total compensation (Thousands)'],color=\"indianred\")\n",
    "plt.title('\\n Base Salary Column Box Plot\\n', size=16, color='black')\n",
    "plt.xlabel('\\n Base Yearly Salary \\n', fontsize=13, color='black')\n",
    "plt.xticks(fontsize=13)\n",
    "plt.show()"
   ]
  },
  {
   "cell_type": "markdown",
   "id": "4870627c",
   "metadata": {},
   "source": [
    "<b> boxplot to see gender group's salary<b>\n",
    "    "
   ]
  },
  {
   "cell_type": "code",
   "execution_count": 52,
   "id": "2918c859",
   "metadata": {},
   "outputs": [
    {
     "data": {
      "text/plain": [
       "<AxesSubplot:title={'center':'Total compensation (Thousands)'}, xlabel='Gender'>"
      ]
     },
     "execution_count": 52,
     "metadata": {},
     "output_type": "execute_result"
    },
    {
     "data": {
      "image/png": "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\n",
      "text/plain": [
       "<Figure size 540x396 with 1 Axes>"
      ]
     },
     "metadata": {
      "needs_background": "light"
     },
     "output_type": "display_data"
    }
   ],
   "source": [
    "plt.rcParams[\"figure.figsize\"] = [7.50, 5.50]\n",
    "plt.rcParams[\"figure.autolayout\"] = True\n",
    "\n",
    "df.boxplot(column='Total compensation (Thousands)', by=\"Gender\")"
   ]
  },
  {
   "cell_type": "code",
   "execution_count": 56,
   "id": "64437cd4",
   "metadata": {},
   "outputs": [
    {
     "data": {
      "text/plain": [
       "<AxesSubplot:title={'center':'Total compensation (Thousands)'}, xlabel='Age'>"
      ]
     },
     "execution_count": 56,
     "metadata": {},
     "output_type": "execute_result"
    },
    {
     "data": {
      "image/png": "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\n",
      "text/plain": [
       "<Figure size 1116x396 with 1 Axes>"
      ]
     },
     "metadata": {
      "needs_background": "light"
     },
     "output_type": "display_data"
    }
   ],
   "source": [
    "plt.rcParams[\"figure.figsize\"] = [15.50, 5.50]\n",
    "plt.rcParams[\"figure.autolayout\"] = True\n",
    "\n",
    "df.boxplot(column='Total compensation (Thousands)', by=\"Age\")"
   ]
  }
 ],
 "metadata": {
  "kernelspec": {
   "display_name": "Python 3 (ipykernel)",
   "language": "python",
   "name": "python3"
  },
  "language_info": {
   "codemirror_mode": {
    "name": "ipython",
    "version": 3
   },
   "file_extension": ".py",
   "mimetype": "text/x-python",
   "name": "python",
   "nbconvert_exporter": "python",
   "pygments_lexer": "ipython3",
<<<<<<< HEAD
   "version": "3.9.7"
=======
   "version": "3.7.3"
>>>>>>> b33b10b77d45e805feac824d85b8a57d3a31485a
  }
 },
 "nbformat": 4,
 "nbformat_minor": 5
}
